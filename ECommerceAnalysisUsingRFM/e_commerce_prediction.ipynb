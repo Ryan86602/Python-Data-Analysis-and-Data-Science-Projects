{
 "cells": [
  {
   "cell_type": "markdown",
   "metadata": {
    "id": "x7vZILPRvW0b"
   },
   "source": [
    "## Task:\n",
    "1. Data cleaning and EDA\n",
    "2. Customer segmentation using RFM analysis\n",
    "3. Customer segmentation using unsupervised ML (K means, DBScans)"
   ]
  },
  {
   "cell_type": "code",
   "execution_count": 1,
   "metadata": {
    "id": "EnFMDX1Vp_Aq"
   },
   "outputs": [],
   "source": [
    "import pandas as pd\n",
    "import numpy as np\n",
    "import matplotlib.pyplot as plt\n",
    "import seaborn as sns\n",
    "%matplotlib inline\n",
    "sns.set()\n",
    "import warnings\n",
    "warnings.filterwarnings('ignore')"
   ]
  },
  {
   "cell_type": "code",
   "execution_count": 2,
   "metadata": {
    "colab": {
     "base_uri": "https://localhost:8080/",
     "height": 347
    },
    "executionInfo": {
     "elapsed": 1188,
     "status": "ok",
     "timestamp": 1759137521478,
     "user": {
      "displayName": "Reyhan Khan",
      "userId": "03108645895925262155"
     },
     "user_tz": -330
    },
    "id": "9fb5QcTp-TTq",
    "outputId": "b9eeaae7-4c7d-4bfd-e548-928e24d15102"
   },
   "outputs": [
    {
     "data": {
      "text/html": [
       "<div>\n",
       "<style scoped>\n",
       "    .dataframe tbody tr th:only-of-type {\n",
       "        vertical-align: middle;\n",
       "    }\n",
       "\n",
       "    .dataframe tbody tr th {\n",
       "        vertical-align: top;\n",
       "    }\n",
       "\n",
       "    .dataframe thead th {\n",
       "        text-align: right;\n",
       "    }\n",
       "</style>\n",
       "<table border=\"1\" class=\"dataframe\">\n",
       "  <thead>\n",
       "    <tr style=\"text-align: right;\">\n",
       "      <th></th>\n",
       "      <th>CustomerID</th>\n",
       "      <th>Item Code</th>\n",
       "      <th>InvoieNo</th>\n",
       "      <th>Date of purchase</th>\n",
       "      <th>Quantity</th>\n",
       "      <th>Time</th>\n",
       "      <th>price per Unit</th>\n",
       "      <th>Price</th>\n",
       "      <th>Shipping Location</th>\n",
       "      <th>Cancelled_status</th>\n",
       "      <th>Reason of return</th>\n",
       "      <th>Sold as set</th>\n",
       "    </tr>\n",
       "  </thead>\n",
       "  <tbody>\n",
       "    <tr>\n",
       "      <th>0</th>\n",
       "      <td>4355.0</td>\n",
       "      <td>15734</td>\n",
       "      <td>398177.0</td>\n",
       "      <td>29-10-2017</td>\n",
       "      <td>6.0</td>\n",
       "      <td>3:36:00 PM</td>\n",
       "      <td>321.0</td>\n",
       "      <td>1926.0</td>\n",
       "      <td>Location 1</td>\n",
       "      <td>NaN</td>\n",
       "      <td>NaN</td>\n",
       "      <td>NaN</td>\n",
       "    </tr>\n",
       "    <tr>\n",
       "      <th>1</th>\n",
       "      <td>4352.0</td>\n",
       "      <td>14616</td>\n",
       "      <td>394422.0</td>\n",
       "      <td>05-10-2017</td>\n",
       "      <td>2.0</td>\n",
       "      <td>2:53:00 PM</td>\n",
       "      <td>870.0</td>\n",
       "      <td>1740.0</td>\n",
       "      <td>Location 1</td>\n",
       "      <td>NaN</td>\n",
       "      <td>NaN</td>\n",
       "      <td>NaN</td>\n",
       "    </tr>\n",
       "    <tr>\n",
       "      <th>2</th>\n",
       "      <td>4352.0</td>\n",
       "      <td>14614</td>\n",
       "      <td>394422.0</td>\n",
       "      <td>12-10-2017</td>\n",
       "      <td>2.0</td>\n",
       "      <td>2:53:00 PM</td>\n",
       "      <td>933.0</td>\n",
       "      <td>1866.0</td>\n",
       "      <td>Location 1</td>\n",
       "      <td>NaN</td>\n",
       "      <td>NaN</td>\n",
       "      <td>NaN</td>\n",
       "    </tr>\n",
       "    <tr>\n",
       "      <th>3</th>\n",
       "      <td>4352.0</td>\n",
       "      <td>85014B</td>\n",
       "      <td>388633.0</td>\n",
       "      <td>22-08-2017</td>\n",
       "      <td>3.0</td>\n",
       "      <td>2:47:00 PM</td>\n",
       "      <td>623.0</td>\n",
       "      <td>1869.0</td>\n",
       "      <td>Location 1</td>\n",
       "      <td>NaN</td>\n",
       "      <td>NaN</td>\n",
       "      <td>NaN</td>\n",
       "    </tr>\n",
       "    <tr>\n",
       "      <th>4</th>\n",
       "      <td>4352.0</td>\n",
       "      <td>15364</td>\n",
       "      <td>394422.0</td>\n",
       "      <td>10-10-2017</td>\n",
       "      <td>2.0</td>\n",
       "      <td>2:53:00 PM</td>\n",
       "      <td>944.0</td>\n",
       "      <td>1888.0</td>\n",
       "      <td>Location 1</td>\n",
       "      <td>NaN</td>\n",
       "      <td>NaN</td>\n",
       "      <td>NaN</td>\n",
       "    </tr>\n",
       "  </tbody>\n",
       "</table>\n",
       "</div>"
      ],
      "text/plain": [
       "   CustomerID Item Code  InvoieNo Date of purchase  Quantity        Time  \\\n",
       "0      4355.0     15734  398177.0       29-10-2017       6.0  3:36:00 PM   \n",
       "1      4352.0     14616  394422.0       05-10-2017       2.0  2:53:00 PM   \n",
       "2      4352.0     14614  394422.0       12-10-2017       2.0  2:53:00 PM   \n",
       "3      4352.0    85014B  388633.0       22-08-2017       3.0  2:47:00 PM   \n",
       "4      4352.0     15364  394422.0       10-10-2017       2.0  2:53:00 PM   \n",
       "\n",
       "   price per Unit   Price Shipping Location Cancelled_status Reason of return  \\\n",
       "0           321.0  1926.0        Location 1              NaN              NaN   \n",
       "1           870.0  1740.0        Location 1              NaN              NaN   \n",
       "2           933.0  1866.0        Location 1              NaN              NaN   \n",
       "3           623.0  1869.0        Location 1              NaN              NaN   \n",
       "4           944.0  1888.0        Location 1              NaN              NaN   \n",
       "\n",
       "   Sold as set  \n",
       "0          NaN  \n",
       "1          NaN  \n",
       "2          NaN  \n",
       "3          NaN  \n",
       "4          NaN  "
      ]
     },
     "execution_count": 2,
     "metadata": {},
     "output_type": "execute_result"
    }
   ],
   "source": [
    "df = pd.read_csv('E-com_Data.csv')\n",
    "df.head()"
   ]
  },
  {
   "cell_type": "code",
   "execution_count": 3,
   "metadata": {
    "colab": {
     "base_uri": "https://localhost:8080/",
     "height": 53
    },
    "executionInfo": {
     "elapsed": 2,
     "status": "ok",
     "timestamp": 1759137521481,
     "user": {
      "displayName": "Reyhan Khan",
      "userId": "03108645895925262155"
     },
     "user_tz": -330
    },
    "id": "LTH_3xXmHNS5",
    "outputId": "fef560b8-0185-44d1-bab0-785fd5fbfdb8"
   },
   "outputs": [
    {
     "data": {
      "text/plain": [
       "'\\n1. Identifying missing values\\n2. Clean the data\\n3. Analyze the data by invoice\\n'"
      ]
     },
     "execution_count": 3,
     "metadata": {},
     "output_type": "execute_result"
    }
   ],
   "source": [
    "# Data cleaning and EDA\n",
    "\"\"\"\n",
    "1. Identifying missing values\n",
    "2. Clean the data\n",
    "3. Analyze the data by invoice\n",
    "\"\"\""
   ]
  },
  {
   "cell_type": "code",
   "execution_count": 4,
   "metadata": {
    "colab": {
     "base_uri": "https://localhost:8080/"
    },
    "executionInfo": {
     "elapsed": 12,
     "status": "ok",
     "timestamp": 1759137521494,
     "user": {
      "displayName": "Reyhan Khan",
      "userId": "03108645895925262155"
     },
     "user_tz": -330
    },
    "id": "3YdaXCbSJyrR",
    "outputId": "37b6618c-3352-41dd-aff8-9d22f8bd392c"
   },
   "outputs": [
    {
     "data": {
      "text/plain": [
       "(541116, 12)"
      ]
     },
     "execution_count": 4,
     "metadata": {},
     "output_type": "execute_result"
    }
   ],
   "source": [
    "df.shape"
   ]
  },
  {
   "cell_type": "code",
   "execution_count": 5,
   "metadata": {
    "colab": {
     "base_uri": "https://localhost:8080/"
    },
    "executionInfo": {
     "elapsed": 113,
     "status": "ok",
     "timestamp": 1759137521606,
     "user": {
      "displayName": "Reyhan Khan",
      "userId": "03108645895925262155"
     },
     "user_tz": -330
    },
    "id": "wUJmF4jnJzZ1",
    "outputId": "345ecab2-6c28-4fbd-afe0-75156527e7bb"
   },
   "outputs": [
    {
     "name": "stdout",
     "output_type": "stream",
     "text": [
      "<class 'pandas.core.frame.DataFrame'>\n",
      "RangeIndex: 541116 entries, 0 to 541115\n",
      "Data columns (total 12 columns):\n",
      " #   Column             Non-Null Count   Dtype  \n",
      "---  ------             --------------   -----  \n",
      " 0   CustomerID         404189 non-null  float64\n",
      " 1   Item Code          537979 non-null  object \n",
      " 2   InvoieNo           537979 non-null  float64\n",
      " 3   Date of purchase   537979 non-null  object \n",
      " 4   Quantity           537979 non-null  float64\n",
      " 5   Time               537979 non-null  object \n",
      " 6   price per Unit     537979 non-null  float64\n",
      " 7   Price              537979 non-null  float64\n",
      " 8   Shipping Location  537979 non-null  object \n",
      " 9   Cancelled_status   8345 non-null    object \n",
      " 10  Reason of return   3 non-null       object \n",
      " 11  Sold as set        0 non-null       float64\n",
      "dtypes: float64(6), object(6)\n",
      "memory usage: 49.5+ MB\n"
     ]
    }
   ],
   "source": [
    "df.info()"
   ]
  },
  {
   "cell_type": "code",
   "execution_count": 6,
   "metadata": {
    "colab": {
     "base_uri": "https://localhost:8080/",
     "height": 355
    },
    "executionInfo": {
     "elapsed": 142,
     "status": "ok",
     "timestamp": 1759137521752,
     "user": {
      "displayName": "Reyhan Khan",
      "userId": "03108645895925262155"
     },
     "user_tz": -330
    },
    "id": "f5dn3UxSJ1N7",
    "outputId": "df99dfb6-68e2-430d-8d49-caa966424e5e"
   },
   "outputs": [
    {
     "data": {
      "text/html": [
       "<div>\n",
       "<style scoped>\n",
       "    .dataframe tbody tr th:only-of-type {\n",
       "        vertical-align: middle;\n",
       "    }\n",
       "\n",
       "    .dataframe tbody tr th {\n",
       "        vertical-align: top;\n",
       "    }\n",
       "\n",
       "    .dataframe thead th {\n",
       "        text-align: right;\n",
       "    }\n",
       "</style>\n",
       "<table border=\"1\" class=\"dataframe\">\n",
       "  <thead>\n",
       "    <tr style=\"text-align: right;\">\n",
       "      <th></th>\n",
       "      <th>CustomerID</th>\n",
       "      <th>InvoieNo</th>\n",
       "      <th>Quantity</th>\n",
       "      <th>price per Unit</th>\n",
       "      <th>Price</th>\n",
       "      <th>Sold as set</th>\n",
       "    </tr>\n",
       "  </thead>\n",
       "  <tbody>\n",
       "    <tr>\n",
       "      <th>count</th>\n",
       "      <td>404189.000000</td>\n",
       "      <td>537979.000000</td>\n",
       "      <td>537979.000000</td>\n",
       "      <td>537979.000000</td>\n",
       "      <td>537979.000000</td>\n",
       "      <td>0.0</td>\n",
       "    </tr>\n",
       "    <tr>\n",
       "      <th>mean</th>\n",
       "      <td>2181.909035</td>\n",
       "      <td>385017.572063</td>\n",
       "      <td>9.343339</td>\n",
       "      <td>378.339062</td>\n",
       "      <td>2161.414593</td>\n",
       "      <td>NaN</td>\n",
       "    </tr>\n",
       "    <tr>\n",
       "      <th>std</th>\n",
       "      <td>1252.681881</td>\n",
       "      <td>13426.052649</td>\n",
       "      <td>27.623322</td>\n",
       "      <td>440.048823</td>\n",
       "      <td>4538.487177</td>\n",
       "      <td>NaN</td>\n",
       "    </tr>\n",
       "    <tr>\n",
       "      <th>min</th>\n",
       "      <td>2.000000</td>\n",
       "      <td>361429.000000</td>\n",
       "      <td>-2003.000000</td>\n",
       "      <td>1.000000</td>\n",
       "      <td>-10152.000000</td>\n",
       "      <td>NaN</td>\n",
       "    </tr>\n",
       "    <tr>\n",
       "      <th>25%</th>\n",
       "      <td>1207.000000</td>\n",
       "      <td>372961.000000</td>\n",
       "      <td>1.000000</td>\n",
       "      <td>169.000000</td>\n",
       "      <td>451.000000</td>\n",
       "      <td>NaN</td>\n",
       "    </tr>\n",
       "    <tr>\n",
       "      <th>50%</th>\n",
       "      <td>2078.000000</td>\n",
       "      <td>385706.000000</td>\n",
       "      <td>3.000000</td>\n",
       "      <td>261.000000</td>\n",
       "      <td>1194.000000</td>\n",
       "      <td>NaN</td>\n",
       "    </tr>\n",
       "    <tr>\n",
       "      <th>75%</th>\n",
       "      <td>3291.000000</td>\n",
       "      <td>396873.000000</td>\n",
       "      <td>10.000000</td>\n",
       "      <td>456.000000</td>\n",
       "      <td>2232.000000</td>\n",
       "      <td>NaN</td>\n",
       "    </tr>\n",
       "    <tr>\n",
       "      <th>max</th>\n",
       "      <td>4372.000000</td>\n",
       "      <td>406651.000000</td>\n",
       "      <td>3186.000000</td>\n",
       "      <td>64973.000000</td>\n",
       "      <td>90400.000000</td>\n",
       "      <td>NaN</td>\n",
       "    </tr>\n",
       "  </tbody>\n",
       "</table>\n",
       "</div>"
      ],
      "text/plain": [
       "          CustomerID       InvoieNo       Quantity  price per Unit  \\\n",
       "count  404189.000000  537979.000000  537979.000000   537979.000000   \n",
       "mean     2181.909035  385017.572063       9.343339      378.339062   \n",
       "std      1252.681881   13426.052649      27.623322      440.048823   \n",
       "min         2.000000  361429.000000   -2003.000000        1.000000   \n",
       "25%      1207.000000  372961.000000       1.000000      169.000000   \n",
       "50%      2078.000000  385706.000000       3.000000      261.000000   \n",
       "75%      3291.000000  396873.000000      10.000000      456.000000   \n",
       "max      4372.000000  406651.000000    3186.000000    64973.000000   \n",
       "\n",
       "               Price  Sold as set  \n",
       "count  537979.000000          0.0  \n",
       "mean     2161.414593          NaN  \n",
       "std      4538.487177          NaN  \n",
       "min    -10152.000000          NaN  \n",
       "25%       451.000000          NaN  \n",
       "50%      1194.000000          NaN  \n",
       "75%      2232.000000          NaN  \n",
       "max     90400.000000          NaN  "
      ]
     },
     "execution_count": 6,
     "metadata": {},
     "output_type": "execute_result"
    }
   ],
   "source": [
    "df.describe()"
   ]
  },
  {
   "cell_type": "code",
   "execution_count": 7,
   "metadata": {
    "colab": {
     "base_uri": "https://localhost:8080/"
    },
    "executionInfo": {
     "elapsed": 41,
     "status": "ok",
     "timestamp": 1759137521827,
     "user": {
      "displayName": "Reyhan Khan",
      "userId": "03108645895925262155"
     },
     "user_tz": -330
    },
    "id": "1Hp7JghXJ2KN",
    "outputId": "6c26cba7-5b33-48fb-f195-a7db6d396d54"
   },
   "outputs": [
    {
     "data": {
      "text/plain": [
       "Timestamp('2016-12-02 00:00:00')"
      ]
     },
     "execution_count": 7,
     "metadata": {},
     "output_type": "execute_result"
    }
   ],
   "source": [
    "pd.to_datetime(df['Date of purchase']).min()"
   ]
  },
  {
   "cell_type": "code",
   "execution_count": 8,
   "metadata": {
    "colab": {
     "base_uri": "https://localhost:8080/"
    },
    "executionInfo": {
     "elapsed": 42,
     "status": "ok",
     "timestamp": 1759137521956,
     "user": {
      "displayName": "Reyhan Khan",
      "userId": "03108645895925262155"
     },
     "user_tz": -330
    },
    "id": "3GEtlupmKmfi",
    "outputId": "a7a03e3b-10fa-4fdf-cc61-098f5597cf08"
   },
   "outputs": [
    {
     "data": {
      "text/plain": [
       "Timestamp('2017-12-19 00:00:00')"
      ]
     },
     "execution_count": 8,
     "metadata": {},
     "output_type": "execute_result"
    }
   ],
   "source": [
    "pd.to_datetime(df['Date of purchase']).max()"
   ]
  },
  {
   "cell_type": "code",
   "execution_count": 9,
   "metadata": {
    "colab": {
     "base_uri": "https://localhost:8080/"
    },
    "executionInfo": {
     "elapsed": 5,
     "status": "ok",
     "timestamp": 1759137521961,
     "user": {
      "displayName": "Reyhan Khan",
      "userId": "03108645895925262155"
     },
     "user_tz": -330
    },
    "id": "5CQTzdbZKo5k",
    "outputId": "64d64be5-b240-4724-f96f-664afd645905"
   },
   "outputs": [
    {
     "data": {
      "text/plain": [
       "Index(['CustomerID', 'Item Code', 'InvoieNo', 'Date of purchase', 'Quantity',\n",
       "       'Time', 'price per Unit', 'Price', 'Shipping Location',\n",
       "       'Cancelled_status', 'Reason of return', 'Sold as set'],\n",
       "      dtype='object')"
      ]
     },
     "execution_count": 9,
     "metadata": {},
     "output_type": "execute_result"
    }
   ],
   "source": [
    "# columns required => customer_id, invoice_no (frequency), date of purchase (recency), price(monetary)\n",
    "df.columns"
   ]
  },
  {
   "cell_type": "code",
   "execution_count": 10,
   "metadata": {
    "id": "bnunWdGFPVZf"
   },
   "outputs": [],
   "source": [
    "cols_required = ['CustomerID', 'InvoieNo', 'Date of purchase', 'Price']\n",
    "drop_columns = [col for col in df.columns if col not in cols_required]"
   ]
  },
  {
   "cell_type": "code",
   "execution_count": 11,
   "metadata": {
    "colab": {
     "base_uri": "https://localhost:8080/"
    },
    "executionInfo": {
     "elapsed": 4,
     "status": "ok",
     "timestamp": 1759137521967,
     "user": {
      "displayName": "Reyhan Khan",
      "userId": "03108645895925262155"
     },
     "user_tz": -330
    },
    "id": "W92hSimhP2WJ",
    "outputId": "7bbb5bd5-e02f-4ac6-cc7e-7e54fae49b02"
   },
   "outputs": [
    {
     "data": {
      "text/plain": [
       "['Item Code',\n",
       " 'Quantity',\n",
       " 'Time',\n",
       " 'price per Unit',\n",
       " 'Shipping Location',\n",
       " 'Cancelled_status',\n",
       " 'Reason of return',\n",
       " 'Sold as set']"
      ]
     },
     "execution_count": 11,
     "metadata": {},
     "output_type": "execute_result"
    }
   ],
   "source": [
    "drop_columns"
   ]
  },
  {
   "cell_type": "code",
   "execution_count": 12,
   "metadata": {
    "id": "TgaxQubaP3QY"
   },
   "outputs": [],
   "source": [
    "df.drop(drop_columns, axis=1, inplace=True)"
   ]
  },
  {
   "cell_type": "code",
   "execution_count": 13,
   "metadata": {
    "colab": {
     "base_uri": "https://localhost:8080/",
     "height": 206
    },
    "executionInfo": {
     "elapsed": 29,
     "status": "ok",
     "timestamp": 1759137522008,
     "user": {
      "displayName": "Reyhan Khan",
      "userId": "03108645895925262155"
     },
     "user_tz": -330
    },
    "id": "FKtutVdjP6qg",
    "outputId": "7357fb54-ebda-4b33-c0bd-10bfaa16fd84"
   },
   "outputs": [
    {
     "data": {
      "text/html": [
       "<div>\n",
       "<style scoped>\n",
       "    .dataframe tbody tr th:only-of-type {\n",
       "        vertical-align: middle;\n",
       "    }\n",
       "\n",
       "    .dataframe tbody tr th {\n",
       "        vertical-align: top;\n",
       "    }\n",
       "\n",
       "    .dataframe thead th {\n",
       "        text-align: right;\n",
       "    }\n",
       "</style>\n",
       "<table border=\"1\" class=\"dataframe\">\n",
       "  <thead>\n",
       "    <tr style=\"text-align: right;\">\n",
       "      <th></th>\n",
       "      <th>CustomerID</th>\n",
       "      <th>InvoieNo</th>\n",
       "      <th>Date of purchase</th>\n",
       "      <th>Price</th>\n",
       "    </tr>\n",
       "  </thead>\n",
       "  <tbody>\n",
       "    <tr>\n",
       "      <th>0</th>\n",
       "      <td>4355.0</td>\n",
       "      <td>398177.0</td>\n",
       "      <td>29-10-2017</td>\n",
       "      <td>1926.0</td>\n",
       "    </tr>\n",
       "    <tr>\n",
       "      <th>1</th>\n",
       "      <td>4352.0</td>\n",
       "      <td>394422.0</td>\n",
       "      <td>05-10-2017</td>\n",
       "      <td>1740.0</td>\n",
       "    </tr>\n",
       "    <tr>\n",
       "      <th>2</th>\n",
       "      <td>4352.0</td>\n",
       "      <td>394422.0</td>\n",
       "      <td>12-10-2017</td>\n",
       "      <td>1866.0</td>\n",
       "    </tr>\n",
       "    <tr>\n",
       "      <th>3</th>\n",
       "      <td>4352.0</td>\n",
       "      <td>388633.0</td>\n",
       "      <td>22-08-2017</td>\n",
       "      <td>1869.0</td>\n",
       "    </tr>\n",
       "    <tr>\n",
       "      <th>4</th>\n",
       "      <td>4352.0</td>\n",
       "      <td>394422.0</td>\n",
       "      <td>10-10-2017</td>\n",
       "      <td>1888.0</td>\n",
       "    </tr>\n",
       "  </tbody>\n",
       "</table>\n",
       "</div>"
      ],
      "text/plain": [
       "   CustomerID  InvoieNo Date of purchase   Price\n",
       "0      4355.0  398177.0       29-10-2017  1926.0\n",
       "1      4352.0  394422.0       05-10-2017  1740.0\n",
       "2      4352.0  394422.0       12-10-2017  1866.0\n",
       "3      4352.0  388633.0       22-08-2017  1869.0\n",
       "4      4352.0  394422.0       10-10-2017  1888.0"
      ]
     },
     "execution_count": 13,
     "metadata": {},
     "output_type": "execute_result"
    }
   ],
   "source": [
    "df.head()"
   ]
  },
  {
   "cell_type": "code",
   "execution_count": 14,
   "metadata": {
    "colab": {
     "base_uri": "https://localhost:8080/"
    },
    "executionInfo": {
     "elapsed": 96,
     "status": "ok",
     "timestamp": 1759137522104,
     "user": {
      "displayName": "Reyhan Khan",
      "userId": "03108645895925262155"
     },
     "user_tz": -330
    },
    "id": "sm8_pS1CP79r",
    "outputId": "54491f67-3ba4-423b-b2e7-311bf20e04b0"
   },
   "outputs": [
    {
     "data": {
      "text/plain": [
       "6008"
      ]
     },
     "execution_count": 14,
     "metadata": {},
     "output_type": "execute_result"
    }
   ],
   "source": [
    "df.duplicated().sum()"
   ]
  },
  {
   "cell_type": "code",
   "execution_count": 15,
   "metadata": {
    "id": "u7aisbLuP-RA"
   },
   "outputs": [],
   "source": [
    "df.drop_duplicates(inplace=True)"
   ]
  },
  {
   "cell_type": "code",
   "execution_count": 16,
   "metadata": {
    "colab": {
     "base_uri": "https://localhost:8080/"
    },
    "executionInfo": {
     "elapsed": 130,
     "status": "ok",
     "timestamp": 1759137522355,
     "user": {
      "displayName": "Reyhan Khan",
      "userId": "03108645895925262155"
     },
     "user_tz": -330
    },
    "id": "YjwpjAm3QX9C",
    "outputId": "ff391bd5-f476-4e75-85fd-9bb69cf6bd35"
   },
   "outputs": [
    {
     "data": {
      "text/plain": [
       "0"
      ]
     },
     "execution_count": 16,
     "metadata": {},
     "output_type": "execute_result"
    }
   ],
   "source": [
    "df.duplicated().sum()"
   ]
  },
  {
   "cell_type": "code",
   "execution_count": 17,
   "metadata": {
    "colab": {
     "base_uri": "https://localhost:8080/",
     "height": 209
    },
    "executionInfo": {
     "elapsed": 48,
     "status": "ok",
     "timestamp": 1759137522402,
     "user": {
      "displayName": "Reyhan Khan",
      "userId": "03108645895925262155"
     },
     "user_tz": -330
    },
    "id": "4yYQK1OWQZE3",
    "outputId": "7de88c13-7189-4711-a1ac-2123baa23d3b"
   },
   "outputs": [
    {
     "data": {
      "text/plain": [
       "CustomerID          24.714450\n",
       "InvoieNo             0.000187\n",
       "Date of purchase     0.000187\n",
       "Price                0.000187\n",
       "dtype: float64"
      ]
     },
     "execution_count": 17,
     "metadata": {},
     "output_type": "execute_result"
    }
   ],
   "source": [
    "# missing values\n",
    "missing_val = df.isnull().sum()\n",
    "missing_val_perc = df.isnull().sum()/df.shape[0] * 100\n",
    "missing_val_perc"
   ]
  },
  {
   "cell_type": "code",
   "execution_count": 18,
   "metadata": {
    "colab": {
     "base_uri": "https://localhost:8080/",
     "height": 175
    },
    "executionInfo": {
     "elapsed": 53,
     "status": "ok",
     "timestamp": 1759137522456,
     "user": {
      "displayName": "Reyhan Khan",
      "userId": "03108645895925262155"
     },
     "user_tz": -330
    },
    "id": "wpEb5kgTQbvT",
    "outputId": "a46e08b7-3e8a-4dcb-df3d-641ea7b7804b"
   },
   "outputs": [
    {
     "data": {
      "text/html": [
       "<div>\n",
       "<style scoped>\n",
       "    .dataframe tbody tr th:only-of-type {\n",
       "        vertical-align: middle;\n",
       "    }\n",
       "\n",
       "    .dataframe tbody tr th {\n",
       "        vertical-align: top;\n",
       "    }\n",
       "\n",
       "    .dataframe thead th {\n",
       "        text-align: right;\n",
       "    }\n",
       "</style>\n",
       "<table border=\"1\" class=\"dataframe\">\n",
       "  <thead>\n",
       "    <tr style=\"text-align: right;\">\n",
       "      <th></th>\n",
       "      <th>missing_num</th>\n",
       "      <th>missing_perc</th>\n",
       "    </tr>\n",
       "  </thead>\n",
       "  <tbody>\n",
       "    <tr>\n",
       "      <th>CustomerID</th>\n",
       "      <td>132249</td>\n",
       "      <td>24.714450</td>\n",
       "    </tr>\n",
       "    <tr>\n",
       "      <th>InvoieNo</th>\n",
       "      <td>1</td>\n",
       "      <td>0.000187</td>\n",
       "    </tr>\n",
       "    <tr>\n",
       "      <th>Date of purchase</th>\n",
       "      <td>1</td>\n",
       "      <td>0.000187</td>\n",
       "    </tr>\n",
       "    <tr>\n",
       "      <th>Price</th>\n",
       "      <td>1</td>\n",
       "      <td>0.000187</td>\n",
       "    </tr>\n",
       "  </tbody>\n",
       "</table>\n",
       "</div>"
      ],
      "text/plain": [
       "                  missing_num  missing_perc\n",
       "CustomerID             132249     24.714450\n",
       "InvoieNo                    1      0.000187\n",
       "Date of purchase            1      0.000187\n",
       "Price                       1      0.000187"
      ]
     },
     "execution_count": 18,
     "metadata": {},
     "output_type": "execute_result"
    }
   ],
   "source": [
    "missing_df = pd.concat([missing_val, missing_val_perc], axis = 1, keys = ['missing_num', 'missing_perc'])\n",
    "missing_df"
   ]
  },
  {
   "cell_type": "code",
   "execution_count": 19,
   "metadata": {
    "colab": {
     "base_uri": "https://localhost:8080/"
    },
    "executionInfo": {
     "elapsed": 15,
     "status": "ok",
     "timestamp": 1759137522472,
     "user": {
      "displayName": "Reyhan Khan",
      "userId": "03108645895925262155"
     },
     "user_tz": -330
    },
    "id": "db8A9gYWVQ_S",
    "outputId": "1ae66056-8c2a-4240-b6b3-070f42f7a926"
   },
   "outputs": [
    {
     "name": "stdout",
     "output_type": "stream",
     "text": [
      "<class 'pandas.core.frame.DataFrame'>\n",
      "Index: 402859 entries, 0 to 537949\n",
      "Data columns (total 4 columns):\n",
      " #   Column            Non-Null Count   Dtype  \n",
      "---  ------            --------------   -----  \n",
      " 0   CustomerID        402859 non-null  float64\n",
      " 1   InvoieNo          402859 non-null  float64\n",
      " 2   Date of purchase  402859 non-null  object \n",
      " 3   Price             402859 non-null  float64\n",
      "dtypes: float64(3), object(1)\n",
      "memory usage: 15.4+ MB\n"
     ]
    }
   ],
   "source": [
    "df = df.dropna(subset = ['CustomerID'])\n",
    "df.info()"
   ]
  },
  {
   "cell_type": "code",
   "execution_count": 20,
   "metadata": {
    "id": "zaSw0FqVVo8Z"
   },
   "outputs": [],
   "source": [
    "import datetime\n",
    "df['Date of purchase'] = pd.to_datetime(df['Date of purchase'])"
   ]
  },
  {
   "cell_type": "code",
   "execution_count": 21,
   "metadata": {
    "id": "Xn8JPBA7WDWe"
   },
   "outputs": [],
   "source": [
    "df = df.rename(columns = {'InvoieNo':'Invoice_no', 'Date of purchase':'Date'})"
   ]
  },
  {
   "cell_type": "code",
   "execution_count": 22,
   "metadata": {
    "colab": {
     "base_uri": "https://localhost:8080/",
     "height": 206
    },
    "executionInfo": {
     "elapsed": 6,
     "status": "ok",
     "timestamp": 1759137522588,
     "user": {
      "displayName": "Reyhan Khan",
      "userId": "03108645895925262155"
     },
     "user_tz": -330
    },
    "id": "VlWtZd2mW0ja",
    "outputId": "eee6de7f-b734-4f50-cb6c-7de208debcd2"
   },
   "outputs": [
    {
     "data": {
      "text/html": [
       "<div>\n",
       "<style scoped>\n",
       "    .dataframe tbody tr th:only-of-type {\n",
       "        vertical-align: middle;\n",
       "    }\n",
       "\n",
       "    .dataframe tbody tr th {\n",
       "        vertical-align: top;\n",
       "    }\n",
       "\n",
       "    .dataframe thead th {\n",
       "        text-align: right;\n",
       "    }\n",
       "</style>\n",
       "<table border=\"1\" class=\"dataframe\">\n",
       "  <thead>\n",
       "    <tr style=\"text-align: right;\">\n",
       "      <th></th>\n",
       "      <th>CustomerID</th>\n",
       "      <th>Invoice_no</th>\n",
       "      <th>Date</th>\n",
       "      <th>Price</th>\n",
       "    </tr>\n",
       "  </thead>\n",
       "  <tbody>\n",
       "    <tr>\n",
       "      <th>0</th>\n",
       "      <td>4355.0</td>\n",
       "      <td>398177.0</td>\n",
       "      <td>2017-10-29</td>\n",
       "      <td>1926.0</td>\n",
       "    </tr>\n",
       "    <tr>\n",
       "      <th>1</th>\n",
       "      <td>4352.0</td>\n",
       "      <td>394422.0</td>\n",
       "      <td>2017-10-05</td>\n",
       "      <td>1740.0</td>\n",
       "    </tr>\n",
       "    <tr>\n",
       "      <th>2</th>\n",
       "      <td>4352.0</td>\n",
       "      <td>394422.0</td>\n",
       "      <td>2017-10-12</td>\n",
       "      <td>1866.0</td>\n",
       "    </tr>\n",
       "    <tr>\n",
       "      <th>3</th>\n",
       "      <td>4352.0</td>\n",
       "      <td>388633.0</td>\n",
       "      <td>2017-08-22</td>\n",
       "      <td>1869.0</td>\n",
       "    </tr>\n",
       "    <tr>\n",
       "      <th>4</th>\n",
       "      <td>4352.0</td>\n",
       "      <td>394422.0</td>\n",
       "      <td>2017-10-10</td>\n",
       "      <td>1888.0</td>\n",
       "    </tr>\n",
       "  </tbody>\n",
       "</table>\n",
       "</div>"
      ],
      "text/plain": [
       "   CustomerID  Invoice_no       Date   Price\n",
       "0      4355.0    398177.0 2017-10-29  1926.0\n",
       "1      4352.0    394422.0 2017-10-05  1740.0\n",
       "2      4352.0    394422.0 2017-10-12  1866.0\n",
       "3      4352.0    388633.0 2017-08-22  1869.0\n",
       "4      4352.0    394422.0 2017-10-10  1888.0"
      ]
     },
     "execution_count": 22,
     "metadata": {},
     "output_type": "execute_result"
    }
   ],
   "source": [
    "df.head()"
   ]
  },
  {
   "cell_type": "code",
   "execution_count": 23,
   "metadata": {
    "colab": {
     "base_uri": "https://localhost:8080/"
    },
    "executionInfo": {
     "elapsed": 6,
     "status": "ok",
     "timestamp": 1759137522594,
     "user": {
      "displayName": "Reyhan Khan",
      "userId": "03108645895925262155"
     },
     "user_tz": -330
    },
    "id": "EDE1z82YW1dd",
    "outputId": "267807ff-9073-4f61-9412-741e3a4f5dc0"
   },
   "outputs": [
    {
     "name": "stdout",
     "output_type": "stream",
     "text": [
      "<class 'pandas.core.frame.DataFrame'>\n",
      "Index: 402859 entries, 0 to 537949\n",
      "Data columns (total 4 columns):\n",
      " #   Column      Non-Null Count   Dtype         \n",
      "---  ------      --------------   -----         \n",
      " 0   CustomerID  402859 non-null  float64       \n",
      " 1   Invoice_no  402859 non-null  float64       \n",
      " 2   Date        402859 non-null  datetime64[ns]\n",
      " 3   Price       402859 non-null  float64       \n",
      "dtypes: datetime64[ns](1), float64(3)\n",
      "memory usage: 15.4 MB\n"
     ]
    }
   ],
   "source": [
    "df.info()"
   ]
  },
  {
   "cell_type": "code",
   "execution_count": 24,
   "metadata": {
    "colab": {
     "base_uri": "https://localhost:8080/",
     "height": 303
    },
    "executionInfo": {
     "elapsed": 3,
     "status": "ok",
     "timestamp": 1759137522598,
     "user": {
      "displayName": "Reyhan Khan",
      "userId": "03108645895925262155"
     },
     "user_tz": -330
    },
    "id": "06dWBb1CW2sZ",
    "outputId": "86f3513f-d0c7-4d72-f1c0-68cb01e917d0"
   },
   "outputs": [
    {
     "data": {
      "text/plain": [
       "count                           402859\n",
       "mean     2017-07-15 14:25:02.538605056\n",
       "min                2016-12-02 00:00:00\n",
       "25%                2017-04-12 00:00:00\n",
       "50%                2017-08-05 00:00:00\n",
       "75%                2017-10-26 00:00:00\n",
       "max                2017-12-19 00:00:00\n",
       "Name: Date, dtype: object"
      ]
     },
     "execution_count": 24,
     "metadata": {},
     "output_type": "execute_result"
    }
   ],
   "source": [
    "df['Date'].describe()"
   ]
  },
  {
   "cell_type": "code",
   "execution_count": 25,
   "metadata": {
    "colab": {
     "base_uri": "https://localhost:8080/",
     "height": 423
    },
    "executionInfo": {
     "elapsed": 43,
     "status": "ok",
     "timestamp": 1759137522650,
     "user": {
      "displayName": "Reyhan Khan",
      "userId": "03108645895925262155"
     },
     "user_tz": -330
    },
    "id": "dkDuzsHKW6HF",
    "outputId": "6e0d8782-d9be-4796-d68c-5fdc5906ed9e"
   },
   "outputs": [
    {
     "data": {
      "text/html": [
       "<div>\n",
       "<style scoped>\n",
       "    .dataframe tbody tr th:only-of-type {\n",
       "        vertical-align: middle;\n",
       "    }\n",
       "\n",
       "    .dataframe tbody tr th {\n",
       "        vertical-align: top;\n",
       "    }\n",
       "\n",
       "    .dataframe thead th {\n",
       "        text-align: right;\n",
       "    }\n",
       "</style>\n",
       "<table border=\"1\" class=\"dataframe\">\n",
       "  <thead>\n",
       "    <tr style=\"text-align: right;\">\n",
       "      <th></th>\n",
       "      <th>CustomerID</th>\n",
       "      <th>Invoice_no</th>\n",
       "      <th>Date</th>\n",
       "      <th>Price</th>\n",
       "    </tr>\n",
       "  </thead>\n",
       "  <tbody>\n",
       "    <tr>\n",
       "      <th>0</th>\n",
       "      <td>4355.0</td>\n",
       "      <td>398177.0</td>\n",
       "      <td>2017-10-29</td>\n",
       "      <td>1926.0</td>\n",
       "    </tr>\n",
       "    <tr>\n",
       "      <th>1</th>\n",
       "      <td>4352.0</td>\n",
       "      <td>394422.0</td>\n",
       "      <td>2017-10-05</td>\n",
       "      <td>1740.0</td>\n",
       "    </tr>\n",
       "    <tr>\n",
       "      <th>2</th>\n",
       "      <td>4352.0</td>\n",
       "      <td>394422.0</td>\n",
       "      <td>2017-10-12</td>\n",
       "      <td>1866.0</td>\n",
       "    </tr>\n",
       "    <tr>\n",
       "      <th>3</th>\n",
       "      <td>4352.0</td>\n",
       "      <td>388633.0</td>\n",
       "      <td>2017-08-22</td>\n",
       "      <td>1869.0</td>\n",
       "    </tr>\n",
       "    <tr>\n",
       "      <th>4</th>\n",
       "      <td>4352.0</td>\n",
       "      <td>394422.0</td>\n",
       "      <td>2017-10-10</td>\n",
       "      <td>1888.0</td>\n",
       "    </tr>\n",
       "    <tr>\n",
       "      <th>...</th>\n",
       "      <td>...</td>\n",
       "      <td>...</td>\n",
       "      <td>...</td>\n",
       "      <td>...</td>\n",
       "    </tr>\n",
       "    <tr>\n",
       "      <th>537945</th>\n",
       "      <td>37.0</td>\n",
       "      <td>402292.0</td>\n",
       "      <td>2017-11-28</td>\n",
       "      <td>384.0</td>\n",
       "    </tr>\n",
       "    <tr>\n",
       "      <th>537946</th>\n",
       "      <td>37.0</td>\n",
       "      <td>402292.0</td>\n",
       "      <td>2017-11-27</td>\n",
       "      <td>398.0</td>\n",
       "    </tr>\n",
       "    <tr>\n",
       "      <th>537947</th>\n",
       "      <td>21.0</td>\n",
       "      <td>363890.0</td>\n",
       "      <td>2016-12-21</td>\n",
       "      <td>2464.0</td>\n",
       "    </tr>\n",
       "    <tr>\n",
       "      <th>537948</th>\n",
       "      <td>21.0</td>\n",
       "      <td>363890.0</td>\n",
       "      <td>2016-12-21</td>\n",
       "      <td>4068.0</td>\n",
       "    </tr>\n",
       "    <tr>\n",
       "      <th>537949</th>\n",
       "      <td>21.0</td>\n",
       "      <td>363890.0</td>\n",
       "      <td>2016-12-17</td>\n",
       "      <td>4940.0</td>\n",
       "    </tr>\n",
       "  </tbody>\n",
       "</table>\n",
       "<p>402859 rows × 4 columns</p>\n",
       "</div>"
      ],
      "text/plain": [
       "        CustomerID  Invoice_no       Date   Price\n",
       "0           4355.0    398177.0 2017-10-29  1926.0\n",
       "1           4352.0    394422.0 2017-10-05  1740.0\n",
       "2           4352.0    394422.0 2017-10-12  1866.0\n",
       "3           4352.0    388633.0 2017-08-22  1869.0\n",
       "4           4352.0    394422.0 2017-10-10  1888.0\n",
       "...            ...         ...        ...     ...\n",
       "537945        37.0    402292.0 2017-11-28   384.0\n",
       "537946        37.0    402292.0 2017-11-27   398.0\n",
       "537947        21.0    363890.0 2016-12-21  2464.0\n",
       "537948        21.0    363890.0 2016-12-21  4068.0\n",
       "537949        21.0    363890.0 2016-12-17  4940.0\n",
       "\n",
       "[402859 rows x 4 columns]"
      ]
     },
     "execution_count": 25,
     "metadata": {},
     "output_type": "execute_result"
    }
   ],
   "source": [
    "df"
   ]
  },
  {
   "cell_type": "code",
   "execution_count": 26,
   "metadata": {
    "colab": {
     "base_uri": "https://localhost:8080/",
     "height": 335
    },
    "executionInfo": {
     "elapsed": 5,
     "status": "ok",
     "timestamp": 1759137522656,
     "user": {
      "displayName": "Reyhan Khan",
      "userId": "03108645895925262155"
     },
     "user_tz": -330
    },
    "id": "A_B8W1PPgkw3",
    "outputId": "a9aa565d-d505-4f8d-8aa5-3018619051dc"
   },
   "outputs": [
    {
     "data": {
      "text/plain": [
       "count    402859.000000\n",
       "mean       2477.465103\n",
       "std        4896.268647\n",
       "min      -10152.000000\n",
       "25%         556.000000\n",
       "50%        1572.000000\n",
       "75%        2496.000000\n",
       "max       90400.000000\n",
       "Name: Price, dtype: float64"
      ]
     },
     "execution_count": 26,
     "metadata": {},
     "output_type": "execute_result"
    }
   ],
   "source": [
    "df.Price.describe()"
   ]
  },
  {
   "cell_type": "code",
   "execution_count": 27,
   "metadata": {
    "colab": {
     "base_uri": "https://localhost:8080/",
     "height": 423
    },
    "executionInfo": {
     "elapsed": 7,
     "status": "ok",
     "timestamp": 1759137522662,
     "user": {
      "displayName": "Reyhan Khan",
      "userId": "03108645895925262155"
     },
     "user_tz": -330
    },
    "id": "T0j8IXzkfGBK",
    "outputId": "4ce2e921-9174-4ec4-cca1-f1660eeeec29"
   },
   "outputs": [
    {
     "data": {
      "text/html": [
       "<div>\n",
       "<style scoped>\n",
       "    .dataframe tbody tr th:only-of-type {\n",
       "        vertical-align: middle;\n",
       "    }\n",
       "\n",
       "    .dataframe tbody tr th {\n",
       "        vertical-align: top;\n",
       "    }\n",
       "\n",
       "    .dataframe thead th {\n",
       "        text-align: right;\n",
       "    }\n",
       "</style>\n",
       "<table border=\"1\" class=\"dataframe\">\n",
       "  <thead>\n",
       "    <tr style=\"text-align: right;\">\n",
       "      <th></th>\n",
       "      <th>CustomerID</th>\n",
       "      <th>Invoice_no</th>\n",
       "      <th>Date</th>\n",
       "      <th>Price</th>\n",
       "    </tr>\n",
       "  </thead>\n",
       "  <tbody>\n",
       "    <tr>\n",
       "      <th>6</th>\n",
       "      <td>4343.0</td>\n",
       "      <td>368432.0</td>\n",
       "      <td>2017-02-13</td>\n",
       "      <td>-3688.0</td>\n",
       "    </tr>\n",
       "    <tr>\n",
       "      <th>31</th>\n",
       "      <td>4325.0</td>\n",
       "      <td>366771.0</td>\n",
       "      <td>2017-01-31</td>\n",
       "      <td>-179.0</td>\n",
       "    </tr>\n",
       "    <tr>\n",
       "      <th>121</th>\n",
       "      <td>4107.0</td>\n",
       "      <td>364641.0</td>\n",
       "      <td>2016-12-21</td>\n",
       "      <td>-885.0</td>\n",
       "    </tr>\n",
       "    <tr>\n",
       "      <th>153</th>\n",
       "      <td>4043.0</td>\n",
       "      <td>387837.0</td>\n",
       "      <td>2017-08-10</td>\n",
       "      <td>-694.0</td>\n",
       "    </tr>\n",
       "    <tr>\n",
       "      <th>252</th>\n",
       "      <td>3951.0</td>\n",
       "      <td>384727.0</td>\n",
       "      <td>2017-07-20</td>\n",
       "      <td>-943.0</td>\n",
       "    </tr>\n",
       "    <tr>\n",
       "      <th>...</th>\n",
       "      <td>...</td>\n",
       "      <td>...</td>\n",
       "      <td>...</td>\n",
       "      <td>...</td>\n",
       "    </tr>\n",
       "    <tr>\n",
       "      <th>537854</th>\n",
       "      <td>3802.0</td>\n",
       "      <td>377012.0</td>\n",
       "      <td>2017-05-06</td>\n",
       "      <td>-382.0</td>\n",
       "    </tr>\n",
       "    <tr>\n",
       "      <th>537866</th>\n",
       "      <td>3309.0</td>\n",
       "      <td>372168.0</td>\n",
       "      <td>2017-03-31</td>\n",
       "      <td>-976.0</td>\n",
       "    </tr>\n",
       "    <tr>\n",
       "      <th>537867</th>\n",
       "      <td>3309.0</td>\n",
       "      <td>372305.0</td>\n",
       "      <td>2017-03-28</td>\n",
       "      <td>-848.0</td>\n",
       "    </tr>\n",
       "    <tr>\n",
       "      <th>537898</th>\n",
       "      <td>1633.0</td>\n",
       "      <td>393042.0</td>\n",
       "      <td>2017-09-24</td>\n",
       "      <td>-788.0</td>\n",
       "    </tr>\n",
       "    <tr>\n",
       "      <th>537900</th>\n",
       "      <td>1631.0</td>\n",
       "      <td>380693.0</td>\n",
       "      <td>2017-06-08</td>\n",
       "      <td>-1660.0</td>\n",
       "    </tr>\n",
       "  </tbody>\n",
       "</table>\n",
       "<p>8179 rows × 4 columns</p>\n",
       "</div>"
      ],
      "text/plain": [
       "        CustomerID  Invoice_no       Date   Price\n",
       "6           4343.0    368432.0 2017-02-13 -3688.0\n",
       "31          4325.0    366771.0 2017-01-31  -179.0\n",
       "121         4107.0    364641.0 2016-12-21  -885.0\n",
       "153         4043.0    387837.0 2017-08-10  -694.0\n",
       "252         3951.0    384727.0 2017-07-20  -943.0\n",
       "...            ...         ...        ...     ...\n",
       "537854      3802.0    377012.0 2017-05-06  -382.0\n",
       "537866      3309.0    372168.0 2017-03-31  -976.0\n",
       "537867      3309.0    372305.0 2017-03-28  -848.0\n",
       "537898      1633.0    393042.0 2017-09-24  -788.0\n",
       "537900      1631.0    380693.0 2017-06-08 -1660.0\n",
       "\n",
       "[8179 rows x 4 columns]"
      ]
     },
     "execution_count": 27,
     "metadata": {},
     "output_type": "execute_result"
    }
   ],
   "source": [
    "df[df['Price'] < 0]"
   ]
  },
  {
   "cell_type": "code",
   "execution_count": 28,
   "metadata": {
    "id": "4umRs9_0W9vp"
   },
   "outputs": [],
   "source": [
    "# use grouby function on df.CustomerID to fetch min and max the customer purchases in the year"
   ]
  },
  {
   "cell_type": "code",
   "execution_count": 29,
   "metadata": {
    "colab": {
     "base_uri": "https://localhost:8080/"
    },
    "executionInfo": {
     "elapsed": 6,
     "status": "ok",
     "timestamp": 1759137522709,
     "user": {
      "displayName": "Reyhan Khan",
      "userId": "03108645895925262155"
     },
     "user_tz": -330
    },
    "id": "0Am-pzhpXLMk",
    "outputId": "8efab988-422d-47e6-a32c-1c4a9272428c"
   },
   "outputs": [
    {
     "data": {
      "text/plain": [
       "datetime.datetime(2017, 12, 20, 0, 0)"
      ]
     },
     "execution_count": 29,
     "metadata": {},
     "output_type": "execute_result"
    }
   ],
   "source": [
    "new_date = datetime.datetime(2017,12,20)\n",
    "new_date"
   ]
  },
  {
   "cell_type": "markdown",
   "metadata": {
    "id": "5qjvdIjcZjOZ"
   },
   "source": [
    "## Customer Segmentation using RFM Analysis\n",
    "\n",
    "Score of 5 => most recent, most frequent, most amount spent and vice versa for score 1\n",
    "- prime, loyal, potential, at-risk etc"
   ]
  },
  {
   "cell_type": "code",
   "execution_count": 30,
   "metadata": {
    "colab": {
     "base_uri": "https://localhost:8080/",
     "height": 489
    },
    "executionInfo": {
     "elapsed": 4,
     "status": "ok",
     "timestamp": 1759137522710,
     "user": {
      "displayName": "Reyhan Khan",
      "userId": "03108645895925262155"
     },
     "user_tz": -330
    },
    "id": "f2i1TtdBZhhG",
    "outputId": "9701c2ba-bc39-408c-c0ce-6e060adcac5b"
   },
   "outputs": [
    {
     "data": {
      "text/plain": [
       "CustomerID\n",
       "2.0       550416.0\n",
       "3.0       257404.0\n",
       "4.0       176613.0\n",
       "5.0        41976.0\n",
       "6.0       151822.0\n",
       "            ...   \n",
       "4368.0     20480.0\n",
       "4369.0     10774.0\n",
       "4370.0     24962.0\n",
       "4371.0    279720.0\n",
       "4372.0    256952.0\n",
       "Name: Price, Length: 4349, dtype: float64"
      ]
     },
     "execution_count": 30,
     "metadata": {},
     "output_type": "execute_result"
    }
   ],
   "source": [
    "df.groupby('CustomerID')['Price'].sum()"
   ]
  },
  {
   "cell_type": "code",
   "execution_count": 31,
   "metadata": {
    "id": "cAUKGt1ma35b"
   },
   "outputs": [],
   "source": [
    "RFMApproach = df.groupby('CustomerID').agg({\n",
    "    'Date': lambda x:(new_date - x.max()).days, #recency\n",
    "    'Invoice_no': 'count', # frequency\n",
    "    'Price' : lambda x:x.sum() # monetary\n",
    "})\n",
    "\n",
    "RFMApproach.rename(columns = {'Date': \"Recency\", 'Invoice_no':'Frequency', 'Price':'Monetary'}, inplace=True)"
   ]
  },
  {
   "cell_type": "code",
   "execution_count": 32,
   "metadata": {
    "colab": {
     "base_uri": "https://localhost:8080/",
     "height": 455
    },
    "executionInfo": {
     "elapsed": 16,
     "status": "ok",
     "timestamp": 1759137523355,
     "user": {
      "displayName": "Reyhan Khan",
      "userId": "03108645895925262155"
     },
     "user_tz": -330
    },
    "id": "8KVweYLFeIlP",
    "outputId": "be14bcd5-beed-46de-89bc-dcd902b5fe19"
   },
   "outputs": [
    {
     "data": {
      "text/html": [
       "<div>\n",
       "<style scoped>\n",
       "    .dataframe tbody tr th:only-of-type {\n",
       "        vertical-align: middle;\n",
       "    }\n",
       "\n",
       "    .dataframe tbody tr th {\n",
       "        vertical-align: top;\n",
       "    }\n",
       "\n",
       "    .dataframe thead th {\n",
       "        text-align: right;\n",
       "    }\n",
       "</style>\n",
       "<table border=\"1\" class=\"dataframe\">\n",
       "  <thead>\n",
       "    <tr style=\"text-align: right;\">\n",
       "      <th></th>\n",
       "      <th>Recency</th>\n",
       "      <th>Frequency</th>\n",
       "      <th>Monetary</th>\n",
       "    </tr>\n",
       "    <tr>\n",
       "      <th>CustomerID</th>\n",
       "      <th></th>\n",
       "      <th></th>\n",
       "      <th></th>\n",
       "    </tr>\n",
       "  </thead>\n",
       "  <tbody>\n",
       "    <tr>\n",
       "      <th>2.0</th>\n",
       "      <td>4</td>\n",
       "      <td>181</td>\n",
       "      <td>550416.0</td>\n",
       "    </tr>\n",
       "    <tr>\n",
       "      <th>3.0</th>\n",
       "      <td>77</td>\n",
       "      <td>27</td>\n",
       "      <td>257404.0</td>\n",
       "    </tr>\n",
       "    <tr>\n",
       "      <th>4.0</th>\n",
       "      <td>19</td>\n",
       "      <td>72</td>\n",
       "      <td>176613.0</td>\n",
       "    </tr>\n",
       "    <tr>\n",
       "      <th>5.0</th>\n",
       "      <td>311</td>\n",
       "      <td>16</td>\n",
       "      <td>41976.0</td>\n",
       "    </tr>\n",
       "    <tr>\n",
       "      <th>6.0</th>\n",
       "      <td>37</td>\n",
       "      <td>84</td>\n",
       "      <td>151822.0</td>\n",
       "    </tr>\n",
       "    <tr>\n",
       "      <th>...</th>\n",
       "      <td>...</td>\n",
       "      <td>...</td>\n",
       "      <td>...</td>\n",
       "    </tr>\n",
       "    <tr>\n",
       "      <th>4368.0</th>\n",
       "      <td>278</td>\n",
       "      <td>10</td>\n",
       "      <td>20480.0</td>\n",
       "    </tr>\n",
       "    <tr>\n",
       "      <th>4369.0</th>\n",
       "      <td>181</td>\n",
       "      <td>7</td>\n",
       "      <td>10774.0</td>\n",
       "    </tr>\n",
       "    <tr>\n",
       "      <th>4370.0</th>\n",
       "      <td>9</td>\n",
       "      <td>13</td>\n",
       "      <td>24962.0</td>\n",
       "    </tr>\n",
       "    <tr>\n",
       "      <th>4371.0</th>\n",
       "      <td>4</td>\n",
       "      <td>751</td>\n",
       "      <td>279720.0</td>\n",
       "    </tr>\n",
       "    <tr>\n",
       "      <th>4372.0</th>\n",
       "      <td>44</td>\n",
       "      <td>68</td>\n",
       "      <td>256952.0</td>\n",
       "    </tr>\n",
       "  </tbody>\n",
       "</table>\n",
       "<p>4349 rows × 3 columns</p>\n",
       "</div>"
      ],
      "text/plain": [
       "            Recency  Frequency  Monetary\n",
       "CustomerID                              \n",
       "2.0               4        181  550416.0\n",
       "3.0              77         27  257404.0\n",
       "4.0              19         72  176613.0\n",
       "5.0             311         16   41976.0\n",
       "6.0              37         84  151822.0\n",
       "...             ...        ...       ...\n",
       "4368.0          278         10   20480.0\n",
       "4369.0          181          7   10774.0\n",
       "4370.0            9         13   24962.0\n",
       "4371.0            4        751  279720.0\n",
       "4372.0           44         68  256952.0\n",
       "\n",
       "[4349 rows x 3 columns]"
      ]
     },
     "execution_count": 32,
     "metadata": {},
     "output_type": "execute_result"
    }
   ],
   "source": [
    "RFMApproach"
   ]
  },
  {
   "cell_type": "markdown",
   "metadata": {
    "id": "Gf5Ro5rsn008"
   },
   "source": [
    "We will create 4 segments of the above data using the quantile method and assign the score to each customer based on their RFM values"
   ]
  },
  {
   "cell_type": "markdown",
   "metadata": {
    "id": "2Oq8QjXL5WQe"
   },
   "source": [
    "In a class of 1000 students, if i say a score of 100 is 25th percentile, what does that mean?\n",
    "\n",
    "It means that 25% of students i.e. 25o students have scores less than or equal to 100 marks."
   ]
  },
  {
   "cell_type": "code",
   "execution_count": 33,
   "metadata": {
    "id": "k82ix8qEn-qE"
   },
   "outputs": [],
   "source": [
    "quantiles = RFMApproach.quantile(q=[0.25, 0.5, 0.75])"
   ]
  },
  {
   "cell_type": "code",
   "execution_count": 34,
   "metadata": {
    "colab": {
     "base_uri": "https://localhost:8080/",
     "height": 143
    },
    "executionInfo": {
     "elapsed": 2,
     "status": "ok",
     "timestamp": 1759137523359,
     "user": {
      "displayName": "Reyhan Khan",
      "userId": "03108645895925262155"
     },
     "user_tz": -330
    },
    "id": "TsKeULEBoPYZ",
    "outputId": "a69f6939-f150-44ae-8b3d-90f5eb94b341"
   },
   "outputs": [
    {
     "data": {
      "text/html": [
       "<div>\n",
       "<style scoped>\n",
       "    .dataframe tbody tr th:only-of-type {\n",
       "        vertical-align: middle;\n",
       "    }\n",
       "\n",
       "    .dataframe tbody tr th {\n",
       "        vertical-align: top;\n",
       "    }\n",
       "\n",
       "    .dataframe thead th {\n",
       "        text-align: right;\n",
       "    }\n",
       "</style>\n",
       "<table border=\"1\" class=\"dataframe\">\n",
       "  <thead>\n",
       "    <tr style=\"text-align: right;\">\n",
       "      <th></th>\n",
       "      <th>Recency</th>\n",
       "      <th>Frequency</th>\n",
       "      <th>Monetary</th>\n",
       "    </tr>\n",
       "  </thead>\n",
       "  <tbody>\n",
       "    <tr>\n",
       "      <th>0.25</th>\n",
       "      <td>18.0</td>\n",
       "      <td>17.0</td>\n",
       "      <td>38140.0</td>\n",
       "    </tr>\n",
       "    <tr>\n",
       "      <th>0.50</th>\n",
       "      <td>51.0</td>\n",
       "      <td>42.0</td>\n",
       "      <td>83635.0</td>\n",
       "    </tr>\n",
       "    <tr>\n",
       "      <th>0.75</th>\n",
       "      <td>144.0</td>\n",
       "      <td>101.0</td>\n",
       "      <td>205444.0</td>\n",
       "    </tr>\n",
       "  </tbody>\n",
       "</table>\n",
       "</div>"
      ],
      "text/plain": [
       "      Recency  Frequency  Monetary\n",
       "0.25     18.0       17.0   38140.0\n",
       "0.50     51.0       42.0   83635.0\n",
       "0.75    144.0      101.0  205444.0"
      ]
     },
     "execution_count": 34,
     "metadata": {},
     "output_type": "execute_result"
    }
   ],
   "source": [
    "quantiles"
   ]
  },
  {
   "cell_type": "code",
   "execution_count": 35,
   "metadata": {
    "id": "VvWlyyOZ7dar"
   },
   "outputs": [],
   "source": [
    "quantiles = quantiles.to_dict()"
   ]
  },
  {
   "cell_type": "code",
   "execution_count": 36,
   "metadata": {
    "colab": {
     "base_uri": "https://localhost:8080/"
    },
    "executionInfo": {
     "elapsed": 5,
     "status": "ok",
     "timestamp": 1759137523396,
     "user": {
      "displayName": "Reyhan Khan",
      "userId": "03108645895925262155"
     },
     "user_tz": -330
    },
    "id": "yxNSzNa17jaL",
    "outputId": "4456be98-09a8-41d6-c9c9-db20614d9c73"
   },
   "outputs": [
    {
     "data": {
      "text/plain": [
       "{'Recency': {0.25: 18.0, 0.5: 51.0, 0.75: 144.0},\n",
       " 'Frequency': {0.25: 17.0, 0.5: 42.0, 0.75: 101.0},\n",
       " 'Monetary': {0.25: 38140.0, 0.5: 83635.0, 0.75: 205444.0}}"
      ]
     },
     "execution_count": 36,
     "metadata": {},
     "output_type": "execute_result"
    }
   ],
   "source": [
    "quantiles"
   ]
  },
  {
   "cell_type": "code",
   "execution_count": 37,
   "metadata": {
    "colab": {
     "base_uri": "https://localhost:8080/",
     "height": 455
    },
    "executionInfo": {
     "elapsed": 4,
     "status": "ok",
     "timestamp": 1759137523398,
     "user": {
      "displayName": "Reyhan Khan",
      "userId": "03108645895925262155"
     },
     "user_tz": -330
    },
    "id": "k_yGs53y7kKk",
    "outputId": "253cc298-aa72-42f2-ebaf-895f82d36e38"
   },
   "outputs": [
    {
     "data": {
      "text/html": [
       "<div>\n",
       "<style scoped>\n",
       "    .dataframe tbody tr th:only-of-type {\n",
       "        vertical-align: middle;\n",
       "    }\n",
       "\n",
       "    .dataframe tbody tr th {\n",
       "        vertical-align: top;\n",
       "    }\n",
       "\n",
       "    .dataframe thead th {\n",
       "        text-align: right;\n",
       "    }\n",
       "</style>\n",
       "<table border=\"1\" class=\"dataframe\">\n",
       "  <thead>\n",
       "    <tr style=\"text-align: right;\">\n",
       "      <th></th>\n",
       "      <th>Recency</th>\n",
       "      <th>Frequency</th>\n",
       "      <th>Monetary</th>\n",
       "    </tr>\n",
       "    <tr>\n",
       "      <th>CustomerID</th>\n",
       "      <th></th>\n",
       "      <th></th>\n",
       "      <th></th>\n",
       "    </tr>\n",
       "  </thead>\n",
       "  <tbody>\n",
       "    <tr>\n",
       "      <th>2.0</th>\n",
       "      <td>4</td>\n",
       "      <td>181</td>\n",
       "      <td>550416.0</td>\n",
       "    </tr>\n",
       "    <tr>\n",
       "      <th>3.0</th>\n",
       "      <td>77</td>\n",
       "      <td>27</td>\n",
       "      <td>257404.0</td>\n",
       "    </tr>\n",
       "    <tr>\n",
       "      <th>4.0</th>\n",
       "      <td>19</td>\n",
       "      <td>72</td>\n",
       "      <td>176613.0</td>\n",
       "    </tr>\n",
       "    <tr>\n",
       "      <th>5.0</th>\n",
       "      <td>311</td>\n",
       "      <td>16</td>\n",
       "      <td>41976.0</td>\n",
       "    </tr>\n",
       "    <tr>\n",
       "      <th>6.0</th>\n",
       "      <td>37</td>\n",
       "      <td>84</td>\n",
       "      <td>151822.0</td>\n",
       "    </tr>\n",
       "    <tr>\n",
       "      <th>...</th>\n",
       "      <td>...</td>\n",
       "      <td>...</td>\n",
       "      <td>...</td>\n",
       "    </tr>\n",
       "    <tr>\n",
       "      <th>4368.0</th>\n",
       "      <td>278</td>\n",
       "      <td>10</td>\n",
       "      <td>20480.0</td>\n",
       "    </tr>\n",
       "    <tr>\n",
       "      <th>4369.0</th>\n",
       "      <td>181</td>\n",
       "      <td>7</td>\n",
       "      <td>10774.0</td>\n",
       "    </tr>\n",
       "    <tr>\n",
       "      <th>4370.0</th>\n",
       "      <td>9</td>\n",
       "      <td>13</td>\n",
       "      <td>24962.0</td>\n",
       "    </tr>\n",
       "    <tr>\n",
       "      <th>4371.0</th>\n",
       "      <td>4</td>\n",
       "      <td>751</td>\n",
       "      <td>279720.0</td>\n",
       "    </tr>\n",
       "    <tr>\n",
       "      <th>4372.0</th>\n",
       "      <td>44</td>\n",
       "      <td>68</td>\n",
       "      <td>256952.0</td>\n",
       "    </tr>\n",
       "  </tbody>\n",
       "</table>\n",
       "<p>4349 rows × 3 columns</p>\n",
       "</div>"
      ],
      "text/plain": [
       "            Recency  Frequency  Monetary\n",
       "CustomerID                              \n",
       "2.0               4        181  550416.0\n",
       "3.0              77         27  257404.0\n",
       "4.0              19         72  176613.0\n",
       "5.0             311         16   41976.0\n",
       "6.0              37         84  151822.0\n",
       "...             ...        ...       ...\n",
       "4368.0          278         10   20480.0\n",
       "4369.0          181          7   10774.0\n",
       "4370.0            9         13   24962.0\n",
       "4371.0            4        751  279720.0\n",
       "4372.0           44         68  256952.0\n",
       "\n",
       "[4349 rows x 3 columns]"
      ]
     },
     "execution_count": 37,
     "metadata": {},
     "output_type": "execute_result"
    }
   ],
   "source": [
    "RFMApproach"
   ]
  },
  {
   "cell_type": "code",
   "execution_count": 38,
   "metadata": {
    "id": "HRATbpUj9k2x"
   },
   "outputs": [],
   "source": [
    "def Recency_value(x, p, d):\n",
    "  \"\"\"\n",
    "  x : the value of col in consideration\n",
    "  p : the col in consdideration, here is recency\n",
    "  d : the dictionary quantiles\n",
    "  \"\"\"\n",
    "  if x <= d[p][0.25]:\n",
    "    return 4\n",
    "  elif x <= d[p][0.5]:\n",
    "    return 3\n",
    "  elif x <= d[p][0.75]:\n",
    "    return 2\n",
    "  else:\n",
    "    return 1"
   ]
  },
  {
   "cell_type": "code",
   "execution_count": 39,
   "metadata": {
    "id": "FI0zLeC7_b07"
   },
   "outputs": [],
   "source": [
    "def frequency_monetary_value(x, p, d):\n",
    "  if x <= d[p][0.25]:\n",
    "    return 1\n",
    "  elif x <= d[p][0.5]:\n",
    "    return 2\n",
    "  elif x <= d[p][0.75]:\n",
    "    return 3\n",
    "  else:\n",
    "    return 4"
   ]
  },
  {
   "cell_type": "code",
   "execution_count": 40,
   "metadata": {
    "id": "n_kkjvOd_oCz"
   },
   "outputs": [],
   "source": [
    "RFMApproach['R'] = RFMApproach['Recency'].apply(Recency_value, args = ('Recency', quantiles))\n",
    "RFMApproach['F'] = RFMApproach['Frequency'].apply(frequency_monetary_value, args = ('Frequency', quantiles))\n",
    "RFMApproach['M'] = RFMApproach['Monetary'].apply(frequency_monetary_value, args = ('Monetary', quantiles))"
   ]
  },
  {
   "cell_type": "code",
   "execution_count": 41,
   "metadata": {
    "colab": {
     "base_uri": "https://localhost:8080/",
     "height": 455
    },
    "executionInfo": {
     "elapsed": 45,
     "status": "ok",
     "timestamp": 1759137523472,
     "user": {
      "displayName": "Reyhan Khan",
      "userId": "03108645895925262155"
     },
     "user_tz": -330
    },
    "id": "C2G8WjVq_8Yq",
    "outputId": "2b2812d8-8f36-4c91-e55d-f6837ec298e0"
   },
   "outputs": [
    {
     "data": {
      "text/html": [
       "<div>\n",
       "<style scoped>\n",
       "    .dataframe tbody tr th:only-of-type {\n",
       "        vertical-align: middle;\n",
       "    }\n",
       "\n",
       "    .dataframe tbody tr th {\n",
       "        vertical-align: top;\n",
       "    }\n",
       "\n",
       "    .dataframe thead th {\n",
       "        text-align: right;\n",
       "    }\n",
       "</style>\n",
       "<table border=\"1\" class=\"dataframe\">\n",
       "  <thead>\n",
       "    <tr style=\"text-align: right;\">\n",
       "      <th></th>\n",
       "      <th>Recency</th>\n",
       "      <th>Frequency</th>\n",
       "      <th>Monetary</th>\n",
       "      <th>R</th>\n",
       "      <th>F</th>\n",
       "      <th>M</th>\n",
       "    </tr>\n",
       "    <tr>\n",
       "      <th>CustomerID</th>\n",
       "      <th></th>\n",
       "      <th></th>\n",
       "      <th></th>\n",
       "      <th></th>\n",
       "      <th></th>\n",
       "      <th></th>\n",
       "    </tr>\n",
       "  </thead>\n",
       "  <tbody>\n",
       "    <tr>\n",
       "      <th>2.0</th>\n",
       "      <td>4</td>\n",
       "      <td>181</td>\n",
       "      <td>550416.0</td>\n",
       "      <td>4</td>\n",
       "      <td>4</td>\n",
       "      <td>4</td>\n",
       "    </tr>\n",
       "    <tr>\n",
       "      <th>3.0</th>\n",
       "      <td>77</td>\n",
       "      <td>27</td>\n",
       "      <td>257404.0</td>\n",
       "      <td>2</td>\n",
       "      <td>2</td>\n",
       "      <td>4</td>\n",
       "    </tr>\n",
       "    <tr>\n",
       "      <th>4.0</th>\n",
       "      <td>19</td>\n",
       "      <td>72</td>\n",
       "      <td>176613.0</td>\n",
       "      <td>3</td>\n",
       "      <td>3</td>\n",
       "      <td>3</td>\n",
       "    </tr>\n",
       "    <tr>\n",
       "      <th>5.0</th>\n",
       "      <td>311</td>\n",
       "      <td>16</td>\n",
       "      <td>41976.0</td>\n",
       "      <td>1</td>\n",
       "      <td>1</td>\n",
       "      <td>2</td>\n",
       "    </tr>\n",
       "    <tr>\n",
       "      <th>6.0</th>\n",
       "      <td>37</td>\n",
       "      <td>84</td>\n",
       "      <td>151822.0</td>\n",
       "      <td>3</td>\n",
       "      <td>3</td>\n",
       "      <td>3</td>\n",
       "    </tr>\n",
       "    <tr>\n",
       "      <th>...</th>\n",
       "      <td>...</td>\n",
       "      <td>...</td>\n",
       "      <td>...</td>\n",
       "      <td>...</td>\n",
       "      <td>...</td>\n",
       "      <td>...</td>\n",
       "    </tr>\n",
       "    <tr>\n",
       "      <th>4368.0</th>\n",
       "      <td>278</td>\n",
       "      <td>10</td>\n",
       "      <td>20480.0</td>\n",
       "      <td>1</td>\n",
       "      <td>1</td>\n",
       "      <td>1</td>\n",
       "    </tr>\n",
       "    <tr>\n",
       "      <th>4369.0</th>\n",
       "      <td>181</td>\n",
       "      <td>7</td>\n",
       "      <td>10774.0</td>\n",
       "      <td>1</td>\n",
       "      <td>1</td>\n",
       "      <td>1</td>\n",
       "    </tr>\n",
       "    <tr>\n",
       "      <th>4370.0</th>\n",
       "      <td>9</td>\n",
       "      <td>13</td>\n",
       "      <td>24962.0</td>\n",
       "      <td>4</td>\n",
       "      <td>1</td>\n",
       "      <td>1</td>\n",
       "    </tr>\n",
       "    <tr>\n",
       "      <th>4371.0</th>\n",
       "      <td>4</td>\n",
       "      <td>751</td>\n",
       "      <td>279720.0</td>\n",
       "      <td>4</td>\n",
       "      <td>4</td>\n",
       "      <td>4</td>\n",
       "    </tr>\n",
       "    <tr>\n",
       "      <th>4372.0</th>\n",
       "      <td>44</td>\n",
       "      <td>68</td>\n",
       "      <td>256952.0</td>\n",
       "      <td>3</td>\n",
       "      <td>3</td>\n",
       "      <td>4</td>\n",
       "    </tr>\n",
       "  </tbody>\n",
       "</table>\n",
       "<p>4349 rows × 6 columns</p>\n",
       "</div>"
      ],
      "text/plain": [
       "            Recency  Frequency  Monetary  R  F  M\n",
       "CustomerID                                       \n",
       "2.0               4        181  550416.0  4  4  4\n",
       "3.0              77         27  257404.0  2  2  4\n",
       "4.0              19         72  176613.0  3  3  3\n",
       "5.0             311         16   41976.0  1  1  2\n",
       "6.0              37         84  151822.0  3  3  3\n",
       "...             ...        ...       ... .. .. ..\n",
       "4368.0          278         10   20480.0  1  1  1\n",
       "4369.0          181          7   10774.0  1  1  1\n",
       "4370.0            9         13   24962.0  4  1  1\n",
       "4371.0            4        751  279720.0  4  4  4\n",
       "4372.0           44         68  256952.0  3  3  4\n",
       "\n",
       "[4349 rows x 6 columns]"
      ]
     },
     "execution_count": 41,
     "metadata": {},
     "output_type": "execute_result"
    }
   ],
   "source": [
    "RFMApproach"
   ]
  },
  {
   "cell_type": "code",
   "execution_count": 42,
   "metadata": {
    "id": "7m6P0eukAEis"
   },
   "outputs": [],
   "source": [
    "RFMApproach['RFM'] = RFMApproach[['R', 'F', 'M']].sum(axis=1)"
   ]
  },
  {
   "cell_type": "code",
   "execution_count": 43,
   "metadata": {
    "colab": {
     "base_uri": "https://localhost:8080/",
     "height": 423
    },
    "executionInfo": {
     "elapsed": 14,
     "status": "ok",
     "timestamp": 1759137523489,
     "user": {
      "displayName": "Reyhan Khan",
      "userId": "03108645895925262155"
     },
     "user_tz": -330
    },
    "id": "4eEQHySnG3gY",
    "outputId": "618d5a14-ac8f-48b4-874d-1afea147e2cb"
   },
   "outputs": [
    {
     "data": {
      "text/html": [
       "<div>\n",
       "<style scoped>\n",
       "    .dataframe tbody tr th:only-of-type {\n",
       "        vertical-align: middle;\n",
       "    }\n",
       "\n",
       "    .dataframe tbody tr th {\n",
       "        vertical-align: top;\n",
       "    }\n",
       "\n",
       "    .dataframe thead th {\n",
       "        text-align: right;\n",
       "    }\n",
       "</style>\n",
       "<table border=\"1\" class=\"dataframe\">\n",
       "  <thead>\n",
       "    <tr style=\"text-align: right;\">\n",
       "      <th></th>\n",
       "      <th>CustomerID</th>\n",
       "      <th>Recency</th>\n",
       "      <th>Frequency</th>\n",
       "      <th>Monetary</th>\n",
       "      <th>R</th>\n",
       "      <th>F</th>\n",
       "      <th>M</th>\n",
       "      <th>RFM</th>\n",
       "    </tr>\n",
       "  </thead>\n",
       "  <tbody>\n",
       "    <tr>\n",
       "      <th>0</th>\n",
       "      <td>2.0</td>\n",
       "      <td>4</td>\n",
       "      <td>181</td>\n",
       "      <td>550416.0</td>\n",
       "      <td>4</td>\n",
       "      <td>4</td>\n",
       "      <td>4</td>\n",
       "      <td>12</td>\n",
       "    </tr>\n",
       "    <tr>\n",
       "      <th>1</th>\n",
       "      <td>3.0</td>\n",
       "      <td>77</td>\n",
       "      <td>27</td>\n",
       "      <td>257404.0</td>\n",
       "      <td>2</td>\n",
       "      <td>2</td>\n",
       "      <td>4</td>\n",
       "      <td>8</td>\n",
       "    </tr>\n",
       "    <tr>\n",
       "      <th>2</th>\n",
       "      <td>4.0</td>\n",
       "      <td>19</td>\n",
       "      <td>72</td>\n",
       "      <td>176613.0</td>\n",
       "      <td>3</td>\n",
       "      <td>3</td>\n",
       "      <td>3</td>\n",
       "      <td>9</td>\n",
       "    </tr>\n",
       "    <tr>\n",
       "      <th>3</th>\n",
       "      <td>5.0</td>\n",
       "      <td>311</td>\n",
       "      <td>16</td>\n",
       "      <td>41976.0</td>\n",
       "      <td>1</td>\n",
       "      <td>1</td>\n",
       "      <td>2</td>\n",
       "      <td>4</td>\n",
       "    </tr>\n",
       "    <tr>\n",
       "      <th>4</th>\n",
       "      <td>6.0</td>\n",
       "      <td>37</td>\n",
       "      <td>84</td>\n",
       "      <td>151822.0</td>\n",
       "      <td>3</td>\n",
       "      <td>3</td>\n",
       "      <td>3</td>\n",
       "      <td>9</td>\n",
       "    </tr>\n",
       "    <tr>\n",
       "      <th>...</th>\n",
       "      <td>...</td>\n",
       "      <td>...</td>\n",
       "      <td>...</td>\n",
       "      <td>...</td>\n",
       "      <td>...</td>\n",
       "      <td>...</td>\n",
       "      <td>...</td>\n",
       "      <td>...</td>\n",
       "    </tr>\n",
       "    <tr>\n",
       "      <th>4344</th>\n",
       "      <td>4368.0</td>\n",
       "      <td>278</td>\n",
       "      <td>10</td>\n",
       "      <td>20480.0</td>\n",
       "      <td>1</td>\n",
       "      <td>1</td>\n",
       "      <td>1</td>\n",
       "      <td>3</td>\n",
       "    </tr>\n",
       "    <tr>\n",
       "      <th>4345</th>\n",
       "      <td>4369.0</td>\n",
       "      <td>181</td>\n",
       "      <td>7</td>\n",
       "      <td>10774.0</td>\n",
       "      <td>1</td>\n",
       "      <td>1</td>\n",
       "      <td>1</td>\n",
       "      <td>3</td>\n",
       "    </tr>\n",
       "    <tr>\n",
       "      <th>4346</th>\n",
       "      <td>4370.0</td>\n",
       "      <td>9</td>\n",
       "      <td>13</td>\n",
       "      <td>24962.0</td>\n",
       "      <td>4</td>\n",
       "      <td>1</td>\n",
       "      <td>1</td>\n",
       "      <td>6</td>\n",
       "    </tr>\n",
       "    <tr>\n",
       "      <th>4347</th>\n",
       "      <td>4371.0</td>\n",
       "      <td>4</td>\n",
       "      <td>751</td>\n",
       "      <td>279720.0</td>\n",
       "      <td>4</td>\n",
       "      <td>4</td>\n",
       "      <td>4</td>\n",
       "      <td>12</td>\n",
       "    </tr>\n",
       "    <tr>\n",
       "      <th>4348</th>\n",
       "      <td>4372.0</td>\n",
       "      <td>44</td>\n",
       "      <td>68</td>\n",
       "      <td>256952.0</td>\n",
       "      <td>3</td>\n",
       "      <td>3</td>\n",
       "      <td>4</td>\n",
       "      <td>10</td>\n",
       "    </tr>\n",
       "  </tbody>\n",
       "</table>\n",
       "<p>4349 rows × 8 columns</p>\n",
       "</div>"
      ],
      "text/plain": [
       "      CustomerID  Recency  Frequency  Monetary  R  F  M  RFM\n",
       "0            2.0        4        181  550416.0  4  4  4   12\n",
       "1            3.0       77         27  257404.0  2  2  4    8\n",
       "2            4.0       19         72  176613.0  3  3  3    9\n",
       "3            5.0      311         16   41976.0  1  1  2    4\n",
       "4            6.0       37         84  151822.0  3  3  3    9\n",
       "...          ...      ...        ...       ... .. .. ..  ...\n",
       "4344      4368.0      278         10   20480.0  1  1  1    3\n",
       "4345      4369.0      181          7   10774.0  1  1  1    3\n",
       "4346      4370.0        9         13   24962.0  4  1  1    6\n",
       "4347      4371.0        4        751  279720.0  4  4  4   12\n",
       "4348      4372.0       44         68  256952.0  3  3  4   10\n",
       "\n",
       "[4349 rows x 8 columns]"
      ]
     },
     "execution_count": 43,
     "metadata": {},
     "output_type": "execute_result"
    }
   ],
   "source": [
    "RFMApproach.reset_index()"
   ]
  },
  {
   "cell_type": "code",
   "execution_count": 44,
   "metadata": {
    "colab": {
     "base_uri": "https://localhost:8080/",
     "height": 429
    },
    "executionInfo": {
     "elapsed": 29,
     "status": "ok",
     "timestamp": 1759137523519,
     "user": {
      "displayName": "Reyhan Khan",
      "userId": "03108645895925262155"
     },
     "user_tz": -330
    },
    "id": "oqOkp_M3G4Cc",
    "outputId": "3408fcac-1a55-46a7-e093-e16f8e4714d9"
   },
   "outputs": [
    {
     "data": {
      "text/plain": [
       "RFM\n",
       "5     508\n",
       "12    471\n",
       "8     461\n",
       "6     458\n",
       "7     447\n",
       "10    439\n",
       "3     410\n",
       "9     405\n",
       "4     380\n",
       "11    370\n",
       "Name: count, dtype: int64"
      ]
     },
     "execution_count": 44,
     "metadata": {},
     "output_type": "execute_result"
    }
   ],
   "source": [
    "RFMApproach['RFM'].value_counts()"
   ]
  },
  {
   "cell_type": "code",
   "execution_count": 45,
   "metadata": {
    "id": "OFY1BXDZG-Uq"
   },
   "outputs": [],
   "source": [
    "loyalty_level = ['bronze', 'silver', 'gold','platinum']\n",
    "\n",
    "score_cuts = pd.qcut(RFMApproach.RFM, q = 4, labels = loyalty_level)\n",
    "RFMApproach['loyalty_level'] = score_cuts.values"
   ]
  },
  {
   "cell_type": "code",
   "execution_count": 46,
   "metadata": {
    "colab": {
     "base_uri": "https://localhost:8080/",
     "height": 455
    },
    "executionInfo": {
     "elapsed": 7,
     "status": "ok",
     "timestamp": 1759137523528,
     "user": {
      "displayName": "Reyhan Khan",
      "userId": "03108645895925262155"
     },
     "user_tz": -330
    },
    "id": "kAr2C6wBHwAZ",
    "outputId": "3cce74f6-8f87-40ac-c692-680635510f9e"
   },
   "outputs": [
    {
     "data": {
      "text/html": [
       "<div>\n",
       "<style scoped>\n",
       "    .dataframe tbody tr th:only-of-type {\n",
       "        vertical-align: middle;\n",
       "    }\n",
       "\n",
       "    .dataframe tbody tr th {\n",
       "        vertical-align: top;\n",
       "    }\n",
       "\n",
       "    .dataframe thead th {\n",
       "        text-align: right;\n",
       "    }\n",
       "</style>\n",
       "<table border=\"1\" class=\"dataframe\">\n",
       "  <thead>\n",
       "    <tr style=\"text-align: right;\">\n",
       "      <th></th>\n",
       "      <th>Recency</th>\n",
       "      <th>Frequency</th>\n",
       "      <th>Monetary</th>\n",
       "      <th>R</th>\n",
       "      <th>F</th>\n",
       "      <th>M</th>\n",
       "      <th>RFM</th>\n",
       "      <th>loyalty_level</th>\n",
       "    </tr>\n",
       "    <tr>\n",
       "      <th>CustomerID</th>\n",
       "      <th></th>\n",
       "      <th></th>\n",
       "      <th></th>\n",
       "      <th></th>\n",
       "      <th></th>\n",
       "      <th></th>\n",
       "      <th></th>\n",
       "      <th></th>\n",
       "    </tr>\n",
       "  </thead>\n",
       "  <tbody>\n",
       "    <tr>\n",
       "      <th>2.0</th>\n",
       "      <td>4</td>\n",
       "      <td>181</td>\n",
       "      <td>550416.0</td>\n",
       "      <td>4</td>\n",
       "      <td>4</td>\n",
       "      <td>4</td>\n",
       "      <td>12</td>\n",
       "      <td>platinum</td>\n",
       "    </tr>\n",
       "    <tr>\n",
       "      <th>3.0</th>\n",
       "      <td>77</td>\n",
       "      <td>27</td>\n",
       "      <td>257404.0</td>\n",
       "      <td>2</td>\n",
       "      <td>2</td>\n",
       "      <td>4</td>\n",
       "      <td>8</td>\n",
       "      <td>gold</td>\n",
       "    </tr>\n",
       "    <tr>\n",
       "      <th>4.0</th>\n",
       "      <td>19</td>\n",
       "      <td>72</td>\n",
       "      <td>176613.0</td>\n",
       "      <td>3</td>\n",
       "      <td>3</td>\n",
       "      <td>3</td>\n",
       "      <td>9</td>\n",
       "      <td>gold</td>\n",
       "    </tr>\n",
       "    <tr>\n",
       "      <th>5.0</th>\n",
       "      <td>311</td>\n",
       "      <td>16</td>\n",
       "      <td>41976.0</td>\n",
       "      <td>1</td>\n",
       "      <td>1</td>\n",
       "      <td>2</td>\n",
       "      <td>4</td>\n",
       "      <td>bronze</td>\n",
       "    </tr>\n",
       "    <tr>\n",
       "      <th>6.0</th>\n",
       "      <td>37</td>\n",
       "      <td>84</td>\n",
       "      <td>151822.0</td>\n",
       "      <td>3</td>\n",
       "      <td>3</td>\n",
       "      <td>3</td>\n",
       "      <td>9</td>\n",
       "      <td>gold</td>\n",
       "    </tr>\n",
       "    <tr>\n",
       "      <th>...</th>\n",
       "      <td>...</td>\n",
       "      <td>...</td>\n",
       "      <td>...</td>\n",
       "      <td>...</td>\n",
       "      <td>...</td>\n",
       "      <td>...</td>\n",
       "      <td>...</td>\n",
       "      <td>...</td>\n",
       "    </tr>\n",
       "    <tr>\n",
       "      <th>4368.0</th>\n",
       "      <td>278</td>\n",
       "      <td>10</td>\n",
       "      <td>20480.0</td>\n",
       "      <td>1</td>\n",
       "      <td>1</td>\n",
       "      <td>1</td>\n",
       "      <td>3</td>\n",
       "      <td>bronze</td>\n",
       "    </tr>\n",
       "    <tr>\n",
       "      <th>4369.0</th>\n",
       "      <td>181</td>\n",
       "      <td>7</td>\n",
       "      <td>10774.0</td>\n",
       "      <td>1</td>\n",
       "      <td>1</td>\n",
       "      <td>1</td>\n",
       "      <td>3</td>\n",
       "      <td>bronze</td>\n",
       "    </tr>\n",
       "    <tr>\n",
       "      <th>4370.0</th>\n",
       "      <td>9</td>\n",
       "      <td>13</td>\n",
       "      <td>24962.0</td>\n",
       "      <td>4</td>\n",
       "      <td>1</td>\n",
       "      <td>1</td>\n",
       "      <td>6</td>\n",
       "      <td>silver</td>\n",
       "    </tr>\n",
       "    <tr>\n",
       "      <th>4371.0</th>\n",
       "      <td>4</td>\n",
       "      <td>751</td>\n",
       "      <td>279720.0</td>\n",
       "      <td>4</td>\n",
       "      <td>4</td>\n",
       "      <td>4</td>\n",
       "      <td>12</td>\n",
       "      <td>platinum</td>\n",
       "    </tr>\n",
       "    <tr>\n",
       "      <th>4372.0</th>\n",
       "      <td>44</td>\n",
       "      <td>68</td>\n",
       "      <td>256952.0</td>\n",
       "      <td>3</td>\n",
       "      <td>3</td>\n",
       "      <td>4</td>\n",
       "      <td>10</td>\n",
       "      <td>gold</td>\n",
       "    </tr>\n",
       "  </tbody>\n",
       "</table>\n",
       "<p>4349 rows × 8 columns</p>\n",
       "</div>"
      ],
      "text/plain": [
       "            Recency  Frequency  Monetary  R  F  M  RFM loyalty_level\n",
       "CustomerID                                                          \n",
       "2.0               4        181  550416.0  4  4  4   12      platinum\n",
       "3.0              77         27  257404.0  2  2  4    8          gold\n",
       "4.0              19         72  176613.0  3  3  3    9          gold\n",
       "5.0             311         16   41976.0  1  1  2    4        bronze\n",
       "6.0              37         84  151822.0  3  3  3    9          gold\n",
       "...             ...        ...       ... .. .. ..  ...           ...\n",
       "4368.0          278         10   20480.0  1  1  1    3        bronze\n",
       "4369.0          181          7   10774.0  1  1  1    3        bronze\n",
       "4370.0            9         13   24962.0  4  1  1    6        silver\n",
       "4371.0            4        751  279720.0  4  4  4   12      platinum\n",
       "4372.0           44         68  256952.0  3  3  4   10          gold\n",
       "\n",
       "[4349 rows x 8 columns]"
      ]
     },
     "execution_count": 46,
     "metadata": {},
     "output_type": "execute_result"
    }
   ],
   "source": [
    "RFMApproach"
   ]
  },
  {
   "cell_type": "code",
   "execution_count": 47,
   "metadata": {
    "colab": {
     "base_uri": "https://localhost:8080/",
     "height": 241
    },
    "executionInfo": {
     "elapsed": 45,
     "status": "ok",
     "timestamp": 1759137523574,
     "user": {
      "displayName": "Reyhan Khan",
      "userId": "03108645895925262155"
     },
     "user_tz": -330
    },
    "id": "k9anjqCgH4Je",
    "outputId": "42aa31b6-8a95-4d82-cbb9-3f3cca1cf85a"
   },
   "outputs": [
    {
     "data": {
      "text/plain": [
       "loyalty_level\n",
       "gold        1305\n",
       "bronze      1298\n",
       "silver       905\n",
       "platinum     841\n",
       "Name: count, dtype: int64"
      ]
     },
     "execution_count": 47,
     "metadata": {},
     "output_type": "execute_result"
    }
   ],
   "source": [
    "RFMApproach['loyalty_level'].value_counts()"
   ]
  },
  {
   "cell_type": "code",
   "execution_count": 48,
   "metadata": {
    "id": "2SsAqRbSH_Pf"
   },
   "outputs": [],
   "source": [
    "final_report = RFMApproach.reset_index().groupby('loyalty_level').agg({\n",
    "    'Recency' : 'sum',\n",
    "    'Frequency' : 'sum',\n",
    "    'Monetary' : 'sum',\n",
    "    'CustomerID' : 'nunique'\n",
    "}).reset_index()"
   ]
  },
  {
   "cell_type": "code",
   "execution_count": 49,
   "metadata": {
    "id": "jzUpDjHZKhMr"
   },
   "outputs": [],
   "source": [
    "final_report.rename(columns = {'CustomerID' : 'No_of_Customers'}, inplace=True)"
   ]
  },
  {
   "cell_type": "code",
   "execution_count": 50,
   "metadata": {
    "colab": {
     "base_uri": "https://localhost:8080/",
     "height": 175
    },
    "executionInfo": {
     "elapsed": 15,
     "status": "ok",
     "timestamp": 1759137523591,
     "user": {
      "displayName": "Reyhan Khan",
      "userId": "03108645895925262155"
     },
     "user_tz": -330
    },
    "id": "gCbg4W5aKiOz",
    "outputId": "d565b591-3093-45d1-b36a-f9404f670c7a"
   },
   "outputs": [
    {
     "data": {
      "text/html": [
       "<div>\n",
       "<style scoped>\n",
       "    .dataframe tbody tr th:only-of-type {\n",
       "        vertical-align: middle;\n",
       "    }\n",
       "\n",
       "    .dataframe tbody tr th {\n",
       "        vertical-align: top;\n",
       "    }\n",
       "\n",
       "    .dataframe thead th {\n",
       "        text-align: right;\n",
       "    }\n",
       "</style>\n",
       "<table border=\"1\" class=\"dataframe\">\n",
       "  <thead>\n",
       "    <tr style=\"text-align: right;\">\n",
       "      <th></th>\n",
       "      <th>loyalty_level</th>\n",
       "      <th>Recency</th>\n",
       "      <th>Frequency</th>\n",
       "      <th>Monetary</th>\n",
       "      <th>No_of_Customers</th>\n",
       "    </tr>\n",
       "  </thead>\n",
       "  <tbody>\n",
       "    <tr>\n",
       "      <th>0</th>\n",
       "      <td>bronze</td>\n",
       "      <td>251210</td>\n",
       "      <td>19098</td>\n",
       "      <td>41358221.0</td>\n",
       "      <td>1298</td>\n",
       "    </tr>\n",
       "    <tr>\n",
       "      <th>1</th>\n",
       "      <td>silver</td>\n",
       "      <td>80769</td>\n",
       "      <td>30910</td>\n",
       "      <td>68540944.1</td>\n",
       "      <td>905</td>\n",
       "    </tr>\n",
       "    <tr>\n",
       "      <th>2</th>\n",
       "      <td>gold</td>\n",
       "      <td>62116</td>\n",
       "      <td>108580</td>\n",
       "      <td>233444984.0</td>\n",
       "      <td>1305</td>\n",
       "    </tr>\n",
       "    <tr>\n",
       "      <th>3</th>\n",
       "      <td>platinum</td>\n",
       "      <td>11664</td>\n",
       "      <td>244271</td>\n",
       "      <td>654724965.0</td>\n",
       "      <td>841</td>\n",
       "    </tr>\n",
       "  </tbody>\n",
       "</table>\n",
       "</div>"
      ],
      "text/plain": [
       "  loyalty_level  Recency  Frequency     Monetary  No_of_Customers\n",
       "0        bronze   251210      19098   41358221.0             1298\n",
       "1        silver    80769      30910   68540944.1              905\n",
       "2          gold    62116     108580  233444984.0             1305\n",
       "3      platinum    11664     244271  654724965.0              841"
      ]
     },
     "execution_count": 50,
     "metadata": {},
     "output_type": "execute_result"
    }
   ],
   "source": [
    "final_report"
   ]
  },
  {
   "cell_type": "code",
   "execution_count": 51,
   "metadata": {
    "id": "rJWjG9nIK1h1"
   },
   "outputs": [],
   "source": [
    "final_report['%customers'] = round(final_report['No_of_Customers'] / final_report['No_of_Customers'].sum() * 100, 2)"
   ]
  },
  {
   "cell_type": "code",
   "execution_count": 52,
   "metadata": {
    "colab": {
     "base_uri": "https://localhost:8080/",
     "height": 195
    },
    "executionInfo": {
     "elapsed": 26,
     "status": "ok",
     "timestamp": 1759137523622,
     "user": {
      "displayName": "Reyhan Khan",
      "userId": "03108645895925262155"
     },
     "user_tz": -330
    },
    "id": "kPSs1IcFLFk3",
    "outputId": "04613ab9-3901-423b-d25f-ee168713fa46"
   },
   "outputs": [
    {
     "data": {
      "text/html": [
       "<div>\n",
       "<style scoped>\n",
       "    .dataframe tbody tr th:only-of-type {\n",
       "        vertical-align: middle;\n",
       "    }\n",
       "\n",
       "    .dataframe tbody tr th {\n",
       "        vertical-align: top;\n",
       "    }\n",
       "\n",
       "    .dataframe thead th {\n",
       "        text-align: right;\n",
       "    }\n",
       "</style>\n",
       "<table border=\"1\" class=\"dataframe\">\n",
       "  <thead>\n",
       "    <tr style=\"text-align: right;\">\n",
       "      <th></th>\n",
       "      <th>loyalty_level</th>\n",
       "      <th>Recency</th>\n",
       "      <th>Frequency</th>\n",
       "      <th>Monetary</th>\n",
       "      <th>No_of_Customers</th>\n",
       "      <th>%customers</th>\n",
       "    </tr>\n",
       "  </thead>\n",
       "  <tbody>\n",
       "    <tr>\n",
       "      <th>0</th>\n",
       "      <td>bronze</td>\n",
       "      <td>251210</td>\n",
       "      <td>19098</td>\n",
       "      <td>41358221.0</td>\n",
       "      <td>1298</td>\n",
       "      <td>29.85</td>\n",
       "    </tr>\n",
       "    <tr>\n",
       "      <th>1</th>\n",
       "      <td>silver</td>\n",
       "      <td>80769</td>\n",
       "      <td>30910</td>\n",
       "      <td>68540944.1</td>\n",
       "      <td>905</td>\n",
       "      <td>20.81</td>\n",
       "    </tr>\n",
       "    <tr>\n",
       "      <th>2</th>\n",
       "      <td>gold</td>\n",
       "      <td>62116</td>\n",
       "      <td>108580</td>\n",
       "      <td>233444984.0</td>\n",
       "      <td>1305</td>\n",
       "      <td>30.01</td>\n",
       "    </tr>\n",
       "    <tr>\n",
       "      <th>3</th>\n",
       "      <td>platinum</td>\n",
       "      <td>11664</td>\n",
       "      <td>244271</td>\n",
       "      <td>654724965.0</td>\n",
       "      <td>841</td>\n",
       "      <td>19.34</td>\n",
       "    </tr>\n",
       "  </tbody>\n",
       "</table>\n",
       "</div>"
      ],
      "text/plain": [
       "  loyalty_level  Recency  Frequency     Monetary  No_of_Customers  %customers\n",
       "0        bronze   251210      19098   41358221.0             1298       29.85\n",
       "1        silver    80769      30910   68540944.1              905       20.81\n",
       "2          gold    62116     108580  233444984.0             1305       30.01\n",
       "3      platinum    11664     244271  654724965.0              841       19.34"
      ]
     },
     "execution_count": 52,
     "metadata": {},
     "output_type": "execute_result"
    }
   ],
   "source": [
    "final_report"
   ]
  },
  {
   "cell_type": "code",
   "execution_count": 53,
   "metadata": {
    "colab": {
     "base_uri": "https://localhost:8080/",
     "height": 175
    },
    "executionInfo": {
     "elapsed": 32,
     "status": "ok",
     "timestamp": 1759137523655,
     "user": {
      "displayName": "Reyhan Khan",
      "userId": "03108645895925262155"
     },
     "user_tz": -330
    },
    "id": "_uQERF3gLHWN",
    "outputId": "3ab3b730-06a2-44d0-e52a-e62de27dab85"
   },
   "outputs": [
    {
     "data": {
      "text/html": [
       "<div>\n",
       "<style scoped>\n",
       "    .dataframe tbody tr th:only-of-type {\n",
       "        vertical-align: middle;\n",
       "    }\n",
       "\n",
       "    .dataframe tbody tr th {\n",
       "        vertical-align: top;\n",
       "    }\n",
       "\n",
       "    .dataframe thead th {\n",
       "        text-align: right;\n",
       "    }\n",
       "</style>\n",
       "<table border=\"1\" class=\"dataframe\">\n",
       "  <thead>\n",
       "    <tr style=\"text-align: right;\">\n",
       "      <th></th>\n",
       "      <th>loyalty_level</th>\n",
       "      <th>No_of_Customers</th>\n",
       "      <th>%customers</th>\n",
       "    </tr>\n",
       "  </thead>\n",
       "  <tbody>\n",
       "    <tr>\n",
       "      <th>0</th>\n",
       "      <td>bronze</td>\n",
       "      <td>1298</td>\n",
       "      <td>29.85</td>\n",
       "    </tr>\n",
       "    <tr>\n",
       "      <th>1</th>\n",
       "      <td>silver</td>\n",
       "      <td>905</td>\n",
       "      <td>20.81</td>\n",
       "    </tr>\n",
       "    <tr>\n",
       "      <th>2</th>\n",
       "      <td>gold</td>\n",
       "      <td>1305</td>\n",
       "      <td>30.01</td>\n",
       "    </tr>\n",
       "    <tr>\n",
       "      <th>3</th>\n",
       "      <td>platinum</td>\n",
       "      <td>841</td>\n",
       "      <td>19.34</td>\n",
       "    </tr>\n",
       "  </tbody>\n",
       "</table>\n",
       "</div>"
      ],
      "text/plain": [
       "  loyalty_level  No_of_Customers  %customers\n",
       "0        bronze             1298       29.85\n",
       "1        silver              905       20.81\n",
       "2          gold             1305       30.01\n",
       "3      platinum              841       19.34"
      ]
     },
     "execution_count": 53,
     "metadata": {},
     "output_type": "execute_result"
    }
   ],
   "source": [
    "final_report_1 = final_report[['loyalty_level', 'No_of_Customers', '%customers']]\n",
    "final_report_1"
   ]
  },
  {
   "cell_type": "code",
   "execution_count": 54,
   "metadata": {
    "colab": {
     "base_uri": "https://localhost:8080/",
     "height": 551
    },
    "executionInfo": {
     "elapsed": 9629,
     "status": "ok",
     "timestamp": 1759137533285,
     "user": {
      "displayName": "Reyhan Khan",
      "userId": "03108645895925262155"
     },
     "user_tz": -330
    },
    "id": "t9IIrl4d8udO",
    "outputId": "9b2ff1df-c416-4b20-b329-987d50bbb3f3"
   },
   "outputs": [
    {
     "name": "stdout",
     "output_type": "stream",
     "text": [
      "Collecting squarify\n",
      "  Downloading squarify-0.4.4-py3-none-any.whl.metadata (600 bytes)\n",
      "Downloading squarify-0.4.4-py3-none-any.whl (4.1 kB)\n",
      "Installing collected packages: squarify\n",
      "Successfully installed squarify-0.4.4\n"
     ]
    },
    {
     "data": {
      "image/png": "[encoded data removed]",
      "text/plain": [
       "<Figure size 1000x800 with 1 Axes>"
      ]
     },
     "metadata": {},
     "output_type": "display_data"
    }
   ],
   "source": [
    "!pip install squarify\n",
    "import squarify\n",
    "fig = plt.gcf()\n",
    "ax = fig.add_subplot()\n",
    "fig.set_size_inches(10, 8)\n",
    "\n",
    "colors_dics = {'bronze' : 'red', 'silver' : 'grey', 'gold' : 'yellow', 'platinum' : 'green'}\n",
    "\n",
    "squarify.plot(sizes = final_report_1['No_of_Customers'], color = colors_dics.values(), label = ['{}\\n{:0.0f} customers \\n{}%'.format(*final_report_1.iloc[i]) for i in range(len(final_report_1))], alpha = 0.6)\n",
    "\n",
    "plt.title('Customer segmentation based on Loyalty Level', fontsize = 25, fontweight = 'bold')\n",
    "plt.show()"
   ]
  },
  {
   "cell_type": "code",
   "execution_count": 55,
   "metadata": {
    "id": "N0vq-xvr-huH"
   },
   "outputs": [],
   "source": [
    "# hierarchial clustering -> go through"
   ]
  },
  {
   "cell_type": "markdown",
   "metadata": {
    "id": "YsbK_oo8Bb5M"
   },
   "source": [
    "K-Means"
   ]
  },
  {
   "cell_type": "code",
   "execution_count": 56,
   "metadata": {
    "id": "i1vp6GTdBa6j"
   },
   "outputs": [],
   "source": [
    "from sklearn.preprocessing import StandardScaler\n",
    "from sklearn.cluster import KMeans"
   ]
  },
  {
   "cell_type": "code",
   "execution_count": 57,
   "metadata": {
    "colab": {
     "base_uri": "https://localhost:8080/",
     "height": 237
    },
    "executionInfo": {
     "elapsed": 28,
     "status": "ok",
     "timestamp": 1759137534471,
     "user": {
      "displayName": "Reyhan Khan",
      "userId": "03108645895925262155"
     },
     "user_tz": -330
    },
    "id": "NaI7ZKkvBii9",
    "outputId": "ce68ffb7-84da-4f43-b44e-073e82c4b3c7"
   },
   "outputs": [
    {
     "data": {
      "text/html": [
       "<div>\n",
       "<style scoped>\n",
       "    .dataframe tbody tr th:only-of-type {\n",
       "        vertical-align: middle;\n",
       "    }\n",
       "\n",
       "    .dataframe tbody tr th {\n",
       "        vertical-align: top;\n",
       "    }\n",
       "\n",
       "    .dataframe thead th {\n",
       "        text-align: right;\n",
       "    }\n",
       "</style>\n",
       "<table border=\"1\" class=\"dataframe\">\n",
       "  <thead>\n",
       "    <tr style=\"text-align: right;\">\n",
       "      <th></th>\n",
       "      <th>Recency</th>\n",
       "      <th>Frequency</th>\n",
       "      <th>Monetary</th>\n",
       "    </tr>\n",
       "    <tr>\n",
       "      <th>CustomerID</th>\n",
       "      <th></th>\n",
       "      <th></th>\n",
       "      <th></th>\n",
       "    </tr>\n",
       "  </thead>\n",
       "  <tbody>\n",
       "    <tr>\n",
       "      <th>2.0</th>\n",
       "      <td>4</td>\n",
       "      <td>181</td>\n",
       "      <td>550416.0</td>\n",
       "    </tr>\n",
       "    <tr>\n",
       "      <th>3.0</th>\n",
       "      <td>77</td>\n",
       "      <td>27</td>\n",
       "      <td>257404.0</td>\n",
       "    </tr>\n",
       "    <tr>\n",
       "      <th>4.0</th>\n",
       "      <td>19</td>\n",
       "      <td>72</td>\n",
       "      <td>176613.0</td>\n",
       "    </tr>\n",
       "    <tr>\n",
       "      <th>5.0</th>\n",
       "      <td>311</td>\n",
       "      <td>16</td>\n",
       "      <td>41976.0</td>\n",
       "    </tr>\n",
       "    <tr>\n",
       "      <th>6.0</th>\n",
       "      <td>37</td>\n",
       "      <td>84</td>\n",
       "      <td>151822.0</td>\n",
       "    </tr>\n",
       "  </tbody>\n",
       "</table>\n",
       "</div>"
      ],
      "text/plain": [
       "            Recency  Frequency  Monetary\n",
       "CustomerID                              \n",
       "2.0               4        181  550416.0\n",
       "3.0              77         27  257404.0\n",
       "4.0              19         72  176613.0\n",
       "5.0             311         16   41976.0\n",
       "6.0              37         84  151822.0"
      ]
     },
     "execution_count": 57,
     "metadata": {},
     "output_type": "execute_result"
    }
   ],
   "source": [
    "rfm_df = RFMApproach[['Recency', 'Frequency', 'Monetary']]\n",
    "rfm_df.head()"
   ]
  },
  {
   "cell_type": "markdown",
   "metadata": {
    "id": "RqbQ0XCyC-MH"
   },
   "source": [
    "- Cluster of similar points are created based on other points\n",
    "- Initially centroids are assigned in data and we iterate thru data and get points which are close and form a cluster\n",
    "- Since this is a distance based algo, data should be standardized to a similar scale"
   ]
  },
  {
   "cell_type": "code",
   "execution_count": 58,
   "metadata": {
    "colab": {
     "base_uri": "https://localhost:8080/"
    },
    "executionInfo": {
     "elapsed": 16,
     "status": "ok",
     "timestamp": 1759137534491,
     "user": {
      "displayName": "Reyhan Khan",
      "userId": "03108645895925262155"
     },
     "user_tz": -330
    },
    "id": "To34mPWuBpff",
    "outputId": "cf2e6851-0bdf-4f08-9364-04089f6afee3"
   },
   "outputs": [
    {
     "data": {
      "text/plain": [
       "array([[-0.88687668,  0.38301434,  0.37509732],\n",
       "       [-0.16187726, -0.28447368,  0.0326216 ],\n",
       "       [-0.73790419, -0.08942848, -0.06180783],\n",
       "       ...,\n",
       "       [-0.83721918, -0.34515441, -0.23905922],\n",
       "       [-0.88687668,  2.85358691,  0.05870479],\n",
       "       [-0.48961672, -0.10676583,  0.0320933 ]])"
      ]
     },
     "execution_count": 58,
     "metadata": {},
     "output_type": "execute_result"
    }
   ],
   "source": [
    "# Apply standard scaling\n",
    "scaler = StandardScaler()\n",
    "rfm_scaled = scaler.fit_transform(rfm_df)\n",
    "rfm_scaled"
   ]
  },
  {
   "cell_type": "markdown",
   "metadata": {
    "id": "BD36YCCpEULj"
   },
   "source": [
    "Find optimal cluster using Elbow method"
   ]
  },
  {
   "cell_type": "code",
   "execution_count": 59,
   "metadata": {
    "id": "8ZO0AyUEC9aO"
   },
   "outputs": [],
   "source": [
    "sse = []\n",
    "for k in range(1,11):\n",
    "  kmeans = KMeans(n_clusters=k, random_state=42)\n",
    "  kmeans.fit(rfm_scaled)\n",
    "  sse.append(kmeans.inertia_)"
   ]
  },
  {
   "cell_type": "code",
   "execution_count": 60,
   "metadata": {
    "colab": {
     "base_uri": "https://localhost:8080/",
     "height": 480
    },
    "executionInfo": {
     "elapsed": 200,
     "status": "ok",
     "timestamp": 1759137534871,
     "user": {
      "displayName": "Reyhan Khan",
      "userId": "03108645895925262155"
     },
     "user_tz": -330
    },
    "id": "zDg14Ps3C67l",
    "outputId": "d08e0e90-7087-4bb5-ca07-97b012068e6d"
   },
   "outputs": [
    {
     "data": {
      "image/png": "[encoded data removed]",
      "text/plain": [
       "<Figure size 640x480 with 1 Axes>"
      ]
     },
     "metadata": {},
     "output_type": "display_data"
    }
   ],
   "source": [
    "plt.plot(range(1,11), sse, marker = 'o')\n",
    "plt.xlabel('number of clusters')\n",
    "plt.ylabel('SSE')\n",
    "plt.title('Elbow method for finding optimal K')\n",
    "plt.show()\n",
    "# best cluster is a cluster value where the graph starts to flatten out\n",
    "# in the below case it is 5"
   ]
  },
  {
   "cell_type": "code",
   "execution_count": 61,
   "metadata": {
    "id": "J879iUBOFJ6v"
   },
   "outputs": [],
   "source": [
    " kmeans = KMeans(n_clusters=5, random_state=42)\n",
    " rfm_df['cluster_no'] = kmeans.fit_predict(rfm_scaled)"
   ]
  },
  {
   "cell_type": "code",
   "execution_count": 62,
   "metadata": {
    "colab": {
     "base_uri": "https://localhost:8080/",
     "height": 272
    },
    "executionInfo": {
     "elapsed": 6,
     "status": "ok",
     "timestamp": 1759137534879,
     "user": {
      "displayName": "Reyhan Khan",
      "userId": "03108645895925262155"
     },
     "user_tz": -330
    },
    "id": "fYavHAw8FuTp",
    "outputId": "b69234b5-de32-4261-cd70-dec49d3d80af"
   },
   "outputs": [
    {
     "data": {
      "text/plain": [
       "cluster_no\n",
       "0    2920\n",
       "1    1063\n",
       "4     351\n",
       "3      11\n",
       "2       4\n",
       "Name: count, dtype: int64"
      ]
     },
     "execution_count": 62,
     "metadata": {},
     "output_type": "execute_result"
    }
   ],
   "source": [
    "rfm_df['cluster_no'].value_counts()"
   ]
  },
  {
   "cell_type": "code",
   "execution_count": 63,
   "metadata": {
    "colab": {
     "base_uri": "https://localhost:8080/",
     "height": 568
    },
    "executionInfo": {
     "elapsed": 4448,
     "status": "ok",
     "timestamp": 1759137939350,
     "user": {
      "displayName": "Reyhan Khan",
      "userId": "03108645895925262155"
     },
     "user_tz": -330
    },
    "id": "7BsDIpRFIret",
    "outputId": "887e203c-7177-46b0-97f5-e624b0cf7960"
   },
   "outputs": [
    {
     "data": {
      "text/plain": [
       "<seaborn.axisgrid.PairGrid at 0x265255c4320>"
      ]
     },
     "execution_count": 63,
     "metadata": {},
     "output_type": "execute_result"
    }
   ],
   "source": [
    "sns.pairplot(rfm_df, vars = ['Recency', 'Frequency', 'Monetary'], hue = 'cluster_no')\n",
    "# cant vizualize that well when we use kmeans"
   ]
  },
  {
   "cell_type": "code",
   "execution_count": null,
   "metadata": {
    "id": "FNYS7cbyycIg"
   },
   "outputs": [],
   "source": []
  }
 ],
 "metadata": {
  "colab": {
   "authorship_tag": "ABX9TyOwGr0XpLKmPPaaZ8hP/uWI",
   "provenance": []
  },
  "kernelspec": {
   "display_name": "base",
   "language": "python",
   "name": "python3"
  },
  "language_info": {
   "codemirror_mode": {
    "name": "ipython",
    "version": 3
   },
   "file_extension": ".py",
   "mimetype": "text/x-python",
   "name": "python",
   "nbconvert_exporter": "python",
   "pygments_lexer": "ipython3",
   "version": "3.12.7"
  }
 },
 "nbformat": 4,
 "nbformat_minor": 0
}
